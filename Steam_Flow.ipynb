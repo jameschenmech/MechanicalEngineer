{
 "cells": [
  {
   "cell_type": "code",
   "execution_count": 1,
   "metadata": {
    "collapsed": true
   },
   "outputs": [],
   "source": [
    "import thermo\n",
    "from thermo.chemical import Chemical"
   ]
  },
  {
   "cell_type": "code",
   "execution_count": 2,
   "metadata": {
    "collapsed": true
   },
   "outputs": [],
   "source": [
    "import math\n",
    "import fluids\n",
    "from fluids.units import *\n"
   ]
  },
  {
   "cell_type": "markdown",
   "metadata": {},
   "source": [
    "Given:  A header with 170 psia saturated steam is feeding a pulp stock digester through 30 feet of 2\" Schedule 40 pipe which includes one standard 90 degree elbow and a fully open conventional plug type disc globe valve.  The initial pressure in the digester is atmospheric."
   ]
  },
  {
   "cell_type": "markdown",
   "metadata": {},
   "source": [
    "Find:  The proper size check valve an dthe pressure drop.  The valve should be sied so that the disc is fully lifted at the specified flow."
   ]
  },
  {
   "cell_type": "code",
   "execution_count": 3,
   "metadata": {},
   "outputs": [
    {
     "data": {
      "text/plain": [
       "(<Quantity(2.0661417322834645, 'inch')>, 0.019, 2.6746)"
      ]
     },
     "execution_count": 3,
     "metadata": {},
     "output_type": "execute_result"
    }
   ],
   "source": [
    "d_2inch = nearest_pipe(NPS=2*u.inch, schedule='40')[1].to(u.inch) #inner pipe dimension\n",
    "\n",
    "ft = 0.019 #Crane 410, A-27\n",
    "Vg = 2.6746 #specific volume, feet**3/lb\n",
    "\n",
    "P1 = 170*u.psi\n",
    "\n",
    "d_2inch, ft, Vg"
   ]
  },
  {
   "cell_type": "markdown",
   "metadata": {},
   "source": [
    "# Modified Darcy Formula"
   ]
  },
  {
   "cell_type": "markdown",
   "metadata": {
    "collapsed": true
   },
   "source": [
    "Find Ks"
   ]
  },
  {
   "cell_type": "code",
   "execution_count": 4,
   "metadata": {},
   "outputs": [
    {
     "data": {
      "text/html": [
       "11.840518292682926 dimensionless"
      ],
      "text/latex": [
       "$11.840518292682926\\ dimensionless$"
      ],
      "text/plain": [
       "<Quantity(11.840518292682926, 'dimensionless')>"
      ]
     },
     "execution_count": 4,
     "metadata": {},
     "output_type": "execute_result"
    }
   ],
   "source": [
    "#Entrance from header, Crane 410, A-30\n",
    "K_entrance = 0.5\n",
    "\n",
    "#Exit to digester, Crane 410, A-30\n",
    "K_exit = 1.0\n",
    "\n",
    "#pipe\n",
    "L = 30*u.feet\n",
    "D = d_2inch.to(u.feet)\n",
    "K_pipe = ft*L/D\n",
    "\n",
    "#globe valve\n",
    "K_globe = 340*ft  #Crane 410, A-30\n",
    "\n",
    "#90 degree elbow\n",
    "K_elbow = 30*ft\n",
    "\n",
    "Ktot = sum([K_pipe, K_globe, K_elbow, K_entrance, K_exit])\n",
    "Ktot"
   ]
  },
  {
   "cell_type": "markdown",
   "metadata": {},
   "source": [
    "DeltaP/P1"
   ]
  },
  {
   "cell_type": "code",
   "execution_count": 5,
   "metadata": {},
   "outputs": [
    {
     "data": {
      "text/plain": [
       "0.9135294117647059"
      ]
     },
     "execution_count": 5,
     "metadata": {},
     "output_type": "execute_result"
    }
   ],
   "source": [
    "#DeltaP/P1, the change in pressure divide by entrance pressure\n",
    "deltaP_P1 = (170 - 14.7)/170\n",
    "\n",
    "deltaP_P1"
   ]
  },
  {
   "cell_type": "markdown",
   "metadata": {},
   "source": [
    "Using the chart on page A-23, Crane 410, for k=1.3, it is found that for K=11.84, the maximum deltaP/P1 is 0.785 (interpolated from table on page A-23).  Since deltaP/P1 is less than indicated by above calculation of deltaP/P1=0.913, sonic velocity occurs at the end of the pipe, and we need to use a different deltaP in the Darcy Formula.\n",
    "Think of this as the maximum deltaP that can have an effect on the flow through the pipe."
   ]
  },
  {
   "cell_type": "code",
   "execution_count": 7,
   "metadata": {},
   "outputs": [
    {
     "data": {
      "text/plain": [
       "'mass flow rate 11759.39 pound / hour'"
      ]
     },
     "execution_count": 7,
     "metadata": {},
     "output_type": "execute_result"
    }
   ],
   "source": [
    "deltaP_P1_max_possible = 0.785\n",
    "\n",
    "deltaP = deltaP_P1_max_possible*170\n",
    "\n",
    "deltaP\n",
    "\n",
    "Y = 0.710 #Crane 410, A-23 interpolated from table\n",
    "\n",
    "W = (1890*Y*(d_2inch**2)*math.sqrt(deltaP/(Ktot*Vg))).magnitude*u.lb/u.hour\n",
    "\n",
    "'mass flow rate {:.2f}'.format(W)"
   ]
  }
 ],
 "metadata": {
  "kernelspec": {
   "display_name": "Python 3",
   "language": "python",
   "name": "python3"
  },
  "language_info": {
   "codemirror_mode": {
    "name": "ipython",
    "version": 3
   },
   "file_extension": ".py",
   "mimetype": "text/x-python",
   "name": "python",
   "nbconvert_exporter": "python",
   "pygments_lexer": "ipython3",
   "version": "3.6.3"
  }
 },
 "nbformat": 4,
 "nbformat_minor": 2
}
