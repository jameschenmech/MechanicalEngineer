{
 "cells": [
  {
   "cell_type": "code",
   "execution_count": 1,
   "metadata": {
    "collapsed": true
   },
   "outputs": [],
   "source": [
    "import thermo\n",
    "from thermo.chemical import Chemical"
   ]
  },
  {
   "cell_type": "code",
   "execution_count": 2,
   "metadata": {
    "collapsed": true
   },
   "outputs": [],
   "source": [
    "import math\n",
    "import fluids\n",
    "from fluids.units import *"
   ]
  },
  {
   "attachments": {},
   "cell_type": "markdown",
   "metadata": {},
   "source": [
    "Given:  Crude oil 30 degree API at 15.6 degC with a viscosity of 75 Universal Saybolt seconds is flowing through a 12\" Schedule 30 steel pipe at a rate of 1900 barrels per hour.  The pipe line is 50 miles long with discharge at an elevation of 2000 feet above the pump inlet.  Assume the pump has an efficiency of 67 percent."
   ]
  },
  {
   "cell_type": "markdown",
   "metadata": {},
   "source": [
    "Find:  The brake horsepower of the pump."
   ]
  },
  {
   "cell_type": "code",
   "execution_count": 3,
   "metadata": {},
   "outputs": [
    {
     "data": {
      "text/plain": [
       "('temperature 60.08 degF, volume flow rate 1330.00 gallon / minute',)"
      ]
     },
     "execution_count": 3,
     "metadata": {},
     "output_type": "execute_result"
    }
   ],
   "source": [
    "T = (15.6*u.degC).to(u.degF)\n",
    "\n",
    "Q = (1900*u.oil_barrel/u.hour).to(u.gallons/u.minute)\n",
    "\n",
    "'temperature {:.2f}, volume flow rate {:.2f}'.format(T,Q), "
   ]
  },
  {
   "cell_type": "markdown",
   "metadata": {},
   "source": [
    "Assume atmospheric pressures"
   ]
  },
  {
   "cell_type": "code",
   "execution_count": 4,
   "metadata": {
    "collapsed": true
   },
   "outputs": [],
   "source": [
    "rho = 54.64*u.lb/u.feet #Crane 410, B-6\n",
    "\n",
    "S = 0.8762 #Crane 410, B-6\n",
    "\n",
    "mu = 12.5*u.cP #from 74 USS, Crane 410, B-5"
   ]
  },
  {
   "cell_type": "code",
   "execution_count": 5,
   "metadata": {},
   "outputs": [
    {
     "data": {
      "text/html": [
       "12.088188976377955 inch"
      ],
      "text/latex": [
       "$12.088188976377955\\ \\mathrm{inch}$"
      ],
      "text/plain": [
       "<Quantity(12.088188976377955, 'inch')>"
      ]
     },
     "execution_count": 5,
     "metadata": {},
     "output_type": "execute_result"
    }
   ],
   "source": [
    "d = (nearest_pipe(NPS=12*u.inch, schedule='30')[1]).to(u.inch)\n",
    "\n",
    "d"
   ]
  },
  {
   "cell_type": "code",
   "execution_count": 6,
   "metadata": {},
   "outputs": [
    {
     "data": {
      "text/plain": [
       "'Reynolds number= 24364.430, f= 0.025 dimensionless'"
      ]
     },
     "execution_count": 6,
     "metadata": {},
     "output_type": "execute_result"
    }
   ],
   "source": [
    "Re = (50.66*Q*rho/(d*mu)).magnitude\n",
    "\n",
    "e = roughness_Farshad('Carbon steel, bare', D=d.to(u.meter))\n",
    "f = friction_factor(Re=Re, eD=e/d.to(u.meter))  #friction factor for 2-1/2\" pipe\n",
    "\n",
    "'Reynolds number= {:.3f}, f= {:.3f}'.format(Re,f)"
   ]
  },
  {
   "cell_type": "code",
   "execution_count": 7,
   "metadata": {},
   "outputs": [
    {
     "data": {
      "text/html": [
       "532.9041634762282 pound_force_per_square_inch"
      ],
      "text/latex": [
       "$532.9041634762282\\ \\mathrm{pound_force_per_square_inch}$"
      ],
      "text/plain": [
       "<Quantity(532.9041634762282, 'pound_force_per_square_inch')>"
      ]
     },
     "execution_count": 7,
     "metadata": {},
     "output_type": "execute_result"
    }
   ],
   "source": [
    "L = (50*u.miles).to(u.feet)\n",
    "\n",
    "deltaP = (((2.161e-4)*f*L*rho*Q**2)/d**5).magnitude*u.psi\n",
    "\n",
    "deltaP"
   ]
  },
  {
   "cell_type": "code",
   "execution_count": 8,
   "metadata": {},
   "outputs": [
    {
     "data": {
      "text/plain": [
       "'1404.43 foot'"
      ]
     },
     "execution_count": 8,
     "metadata": {},
     "output_type": "execute_result"
    }
   ],
   "source": [
    "hL = (144*deltaP/rho).magnitude*u.feet\n",
    "\n",
    "'{:.2f}'.format(hL)"
   ]
  },
  {
   "cell_type": "markdown",
   "metadata": {},
   "source": [
    "# Total discharge head at the pump is"
   ]
  },
  {
   "cell_type": "code",
   "execution_count": 9,
   "metadata": {},
   "outputs": [
    {
     "data": {
      "text/plain": [
       "'3404.43 foot'"
      ]
     },
     "execution_count": 9,
     "metadata": {},
     "output_type": "execute_result"
    }
   ],
   "source": [
    "H = hL + 2000*u.feet\n",
    "\n",
    "'{:.2f}'.format(H)"
   ]
  },
  {
   "cell_type": "code",
   "execution_count": 10,
   "metadata": {},
   "outputs": [
    {
     "data": {
      "text/plain": [
       "'brake horse power 1494.98 horsepower'"
      ]
     },
     "execution_count": 10,
     "metadata": {},
     "output_type": "execute_result"
    }
   ],
   "source": [
    "#brake horse power\n",
    "nu_p = 0.67 #pump efficiency\n",
    "\n",
    "bhp = (Q*H*rho/(247000*nu_p)).magnitude*u.hp\n",
    "'brake horse power {:.2f}'.format(bhp)"
   ]
  },
  {
   "cell_type": "code",
   "execution_count": null,
   "metadata": {
    "collapsed": true
   },
   "outputs": [],
   "source": []
  }
 ],
 "metadata": {
  "kernelspec": {
   "display_name": "Python 3",
   "language": "python",
   "name": "python3"
  },
  "language_info": {
   "codemirror_mode": {
    "name": "ipython",
    "version": 3
   },
   "file_extension": ".py",
   "mimetype": "text/x-python",
   "name": "python",
   "nbconvert_exporter": "python",
   "pygments_lexer": "ipython3",
   "version": "3.6.3"
  }
 },
 "nbformat": 4,
 "nbformat_minor": 2
}
