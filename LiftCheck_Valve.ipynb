{
 "cells": [
  {
   "cell_type": "code",
   "execution_count": 1,
   "metadata": {
    "collapsed": true
   },
   "outputs": [],
   "source": [
    "from thermo import *\n",
    "from thermo.chemical import Chemical"
   ]
  },
  {
   "cell_type": "code",
   "execution_count": 2,
   "metadata": {
    "collapsed": true
   },
   "outputs": [],
   "source": [
    "import math\n",
    "from fluids import *\n",
    "from fluids.units import *\n"
   ]
  },
  {
   "cell_type": "markdown",
   "metadata": {},
   "source": [
    "Given:  A globe type lift check valve with a wing-guided disc is requried in a 3\" Schedule 40 horizontal pipe carrying 70 degF water at the rate of 80 gallons per minute."
   ]
  },
  {
   "cell_type": "markdown",
   "metadata": {},
   "source": [
    "Find:  The proper size check valve an dthe pressure drop.  The valve should be sied so that the disc is fully lifted at the specified flow."
   ]
  },
  {
   "cell_type": "code",
   "execution_count": 3,
   "metadata": {
    "collapsed": true
   },
   "outputs": [],
   "source": [
    "Q = 80*u.gallon/u.minute"
   ]
  },
  {
   "cell_type": "code",
   "execution_count": 4,
   "metadata": {
    "collapsed": true
   },
   "outputs": [],
   "source": [
    "T = (70*u.degF).to(u.degK)"
   ]
  },
  {
   "cell_type": "markdown",
   "metadata": {},
   "source": [
    "Assume atmospheric pressures"
   ]
  },
  {
   "cell_type": "code",
   "execution_count": 5,
   "metadata": {
    "collapsed": true
   },
   "outputs": [],
   "source": [
    "P = (1*u.atm).to(u.Pa)"
   ]
  },
  {
   "cell_type": "markdown",
   "metadata": {},
   "source": [
    "Get the water properties from PubChem"
   ]
  },
  {
   "cell_type": "code",
   "execution_count": 6,
   "metadata": {
    "collapsed": true
   },
   "outputs": [],
   "source": [
    "water = Chemical('water', P=P.magnitude, T=T.magnitude)"
   ]
  },
  {
   "cell_type": "markdown",
   "metadata": {},
   "source": [
    "# Solve using the fluids-built in functions exclusively"
   ]
  },
  {
   "cell_type": "markdown",
   "metadata": {},
   "source": [
    "Only the following types of clean, new pipe have data available:\n",
    "‘Plastic coated’\n",
    "‘Carbon steel, honed bare’\n",
    "‘Cr13, electropolished bare’\n",
    "‘Cement lining’\n",
    "‘Carbon steel, bare’\n",
    "‘Fiberglass lining’\n",
    "‘Cr13, bare’"
   ]
  },
  {
   "cell_type": "code",
   "execution_count": 7,
   "metadata": {
    "collapsed": true
   },
   "outputs": [],
   "source": [
    "d1 = nearest_pipe(NPS=2.5*u.inch, schedule='40')[1] #inner pipe dimension\n",
    "d2 = nearest_pipe(NPS=3*u.inch, schedule='40')[1] #inner pipe dimension\n",
    "\n",
    "spec_vol = 1/water.rho*u.meter**3/u.kg\n",
    "\n",
    "rho = water.rho*u.kg/u.meter**3\n",
    "\n",
    "#Re for fully turbulent\n",
    "Re = 10**8\n",
    "\n",
    "e = roughness_Farshad('Carbon steel, bare', D=d1)\n",
    "f2 = friction_factor(Re=Re, eD=e/d1)  #friction factor for 2-1/2\" pipe\n",
    " \n",
    "f3 = friction_factor(Re=Re, eD=e/d2)  #friciton factor for 3\" pipe\n"
   ]
  },
  {
   "cell_type": "code",
   "execution_count": 8,
   "metadata": {},
   "outputs": [
    {
     "data": {
      "text/plain": [
       "(<Quantity(5.066215328554337, 'foot / second')>,\n",
       " <Quantity(3.4725746724909237, 'foot / second')>)"
      ]
     },
     "execution_count": 8,
     "metadata": {},
     "output_type": "execute_result"
    }
   ],
   "source": [
    "#Let's try a 3\" lift check valve\n",
    "beta = d2/d2\n",
    "vmin = 40*math.sqrt((spec_vol.to(u.feet**3/u.lb)).magnitude)*u.feet/u.sec #Crane 410 A-28 for lift check valve\n",
    "\n",
    "v3 = ((0.4085*Q/(d2.to(u.inch)**2)).magnitude)*u.feet/u.sec\n",
    "\n",
    "vmin, v3\n",
    "#Since vmin is greater than v3, we need a smaller size."
   ]
  },
  {
   "cell_type": "code",
   "execution_count": 9,
   "metadata": {},
   "outputs": [
    {
     "name": "stdout",
     "output_type": "stream",
     "text": [
      "Using a 2-1/2\" valve with a delta_P equal 1.9454971439787705 pound_force_per_square_inch.\n"
     ]
    }
   ],
   "source": [
    "#Let's try a 2-1/2\" lift check valve\n",
    "v2 = ((0.4085*Q/(d1.to(u.inch)**2)).magnitude)*u.feet/u.sec\n",
    "\n",
    "#We have a new beta\n",
    "beta = d1/d2\n",
    "\n",
    "#Calculate the downstream pressure drop\n",
    "K1 = 600*f3\n",
    "\n",
    "K2 = (K1+beta*(0.5*(1-beta**2)+(1-beta**2)**2))/beta**4  \n",
    "#note K1 is already incorporated into K2, thus this K2 is actually Ktot\n",
    "\n",
    "delta_P = ((1.801e-5)*(K2*rho.to(u.lb/u.feet**3)*Q**2)/d2.to(u.inch)**4).magnitude*u.psi\n",
    "\n",
    "print(\"Using a 2-1/2\\\" valve with a delta_P equal {}.\".format(delta_P))"
   ]
  },
  {
   "cell_type": "markdown",
   "metadata": {},
   "source": [
    "# Solution as Provided by Crane 410"
   ]
  },
  {
   "cell_type": "code",
   "execution_count": 10,
   "metadata": {},
   "outputs": [
    {
     "name": "stdout",
     "output_type": "stream",
     "text": [
      "Using a 2-1/2\" valve with a delta_P equal 2.1395300100036607 pound_force_per_square_inch.\n"
     ]
    }
   ],
   "source": [
    "f2 = 0.018 #2-1/2 fully turbulent friction factor\n",
    "f3 = 0.017 #3 fully turbulent friction factor\n",
    "\n",
    "K1 = 600*f2\n",
    "\n",
    "beta = d1/d2\n",
    "\n",
    "K2 = (K1+beta*(0.5*(1-beta**2)+(1-beta**2)**2))/beta**4  \n",
    "\n",
    "delta_P = ((1.801e-5)*(K2*rho.to(u.lb/u.feet**3)*Q**2)/d2.to(u.inch)**4).magnitude*u.psi\n",
    "\n",
    "print(\"Using a 2-1/2\\\" valve with a delta_P equal {}.\".format(delta_P))"
   ]
  },
  {
   "cell_type": "markdown",
   "metadata": {},
   "source": [
    "The calculation from the fluids module vs what Crane 410 gives is pretty close."
   ]
  },
  {
   "cell_type": "code",
   "execution_count": null,
   "metadata": {
    "collapsed": true
   },
   "outputs": [],
   "source": []
  }
 ],
 "metadata": {
  "kernelspec": {
   "display_name": "Python 3",
   "language": "python",
   "name": "python3"
  },
  "language_info": {
   "codemirror_mode": {
    "name": "ipython",
    "version": 3
   },
   "file_extension": ".py",
   "mimetype": "text/x-python",
   "name": "python",
   "nbconvert_exporter": "python",
   "pygments_lexer": "ipython3",
   "version": "3.6.3"
  }
 },
 "nbformat": 4,
 "nbformat_minor": 2
}
