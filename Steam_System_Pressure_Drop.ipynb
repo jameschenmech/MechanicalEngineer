{
 "cells": [
  {
   "cell_type": "code",
   "execution_count": 1,
   "metadata": {
    "collapsed": true
   },
   "outputs": [],
   "source": [
    "import fluids\n",
    "from fluids.units import *"
   ]
  },
  {
   "cell_type": "markdown",
   "metadata": {},
   "source": [
    "Given:  600 psig steam at 850 degF flows through 400 feet of horizontal 6\" Schedule 80 pipe at a rate of 90,000 pounds per hour.  The system contains three 90 degree weld elbows having a relative radius of 1.5, one fully-open 6x4\" Class 600 venturi gate valve with inlet and outlet ports conically tapered from back of body righs to valve ends.  Face-to-face dimensions is 22\" and back of seat ring is about 6\".   Additionally, there is one 6\" Class 600 y-pattern globe valve.  Latter has a seat diameter equal to 0.9 of the inside diameter of Schedule 80 pipe, disc fully lifted.\n",
    "Find:  The pressure drop through the system"
   ]
  },
  {
   "cell_type": "markdown",
   "metadata": {
    "collapsed": true
   },
   "source": [
    "K2, L/D and L should be given in terms of 6\" Schedule 80 pipe"
   ]
  },
  {
   "cell_type": "code",
   "execution_count": 2,
   "metadata": {},
   "outputs": [
    {
     "data": {
      "text/plain": [
       "(<Quantity(1.24635, 'foot ** 3 / pound')>,\n",
       " <Quantity(0.027, 'centipoise')>,\n",
       " 0.015)"
      ]
     },
     "execution_count": 2,
     "metadata": {},
     "output_type": "execute_result"
    }
   ],
   "source": [
    "V_bar = ((1.3023+1.1904)/2)*u.feet**3/u.lb  #specific volume, Crane 410, A-18\n",
    "mu = 0.027*u.cP #Crane 410, A-2\n",
    "\n",
    "ft_pipe = 0.015 #Crane 410, A-27\n",
    "\n",
    "V_bar, mu, ft_pipe"
   ]
  },
  {
   "cell_type": "markdown",
   "metadata": {},
   "source": [
    "# Solve for K"
   ]
  },
  {
   "cell_type": "code",
   "execution_count": 3,
   "metadata": {},
   "outputs": [
    {
     "name": "stdout",
     "output_type": "stream",
     "text": [
      "K venturi is: 1.0443998252277853 dimensionless, L/D is: 69.62665501518569 dimensionless, L is 33.433586706110816 foot\n"
     ]
    }
   ],
   "source": [
    "#K for Venturi Gate Valve\n",
    "d1 = (4.0*u.inch).to(u.meter)  #valve seat bore is 4.0\"\n",
    "d2 = nearest_pipe(NPS=6*u.inch, schedule='80')[1]\n",
    "\n",
    "beta = d1/d2\n",
    "\n",
    "ft = 0.015 #Crane 410, A-27\n",
    "K1 = 8*ft #from Crane 410 A-28\n",
    "\n",
    "tan_theta_div2 = 0.5*(d2.to(u.inch)-d1.to(u.inch))/(0.5*(22*u.inch-6*u.inch))\n",
    "sin_theta_div2 = tan_theta_div2 #approximately accurate for small theta\n",
    "\n",
    "\n",
    "K2 = (K1+sin_theta_div2*(0.8*(1-beta**2)+2.6*(1-beta**2)**2))/beta**4 #from Crane 410 A-27\n",
    "\n",
    "K_venturi = K2\n",
    "\n",
    "LD = K2/ft\n",
    "\n",
    "L = (LD*d2.to(u.inch)).to(u.feet)\n",
    "\n",
    "print(\"K venturi is: {}, L/D is: {}, L is {}\".format(K_venturi, LD, L))\n",
    "\n"
   ]
  },
  {
   "cell_type": "code",
   "execution_count": 4,
   "metadata": {},
   "outputs": [
    {
     "data": {
      "text/plain": [
       "1.004835390946502"
      ]
     },
     "execution_count": 4,
     "metadata": {},
     "output_type": "execute_result"
    }
   ],
   "source": [
    "#K for globe valve\n",
    "ft = 0.015 #Crane 410, A-27, for 6\"\n",
    "beta = 0.9\n",
    "K1 = 55*ft\n",
    "K2 = K1 + beta*(0.5*(1-beta**2)+(1-beta**2)**2)/(beta**4)\n",
    "K_globe = K2\n",
    "K_globe"
   ]
  },
  {
   "cell_type": "code",
   "execution_count": 5,
   "metadata": {},
   "outputs": [
    {
     "data": {
      "text/plain": [
       "0.63"
      ]
     },
     "execution_count": 5,
     "metadata": {},
     "output_type": "execute_result"
    }
   ],
   "source": [
    "#K for elbows\n",
    "ft = 0.015 #Crane 410, A-27, for 6\"\n",
    "K = 14*ft\n",
    "K_elbow = 3*K\n",
    "\n",
    "K_elbow"
   ]
  },
  {
   "cell_type": "code",
   "execution_count": 6,
   "metadata": {},
   "outputs": [],
   "source": [
    "#K for pipe\n",
    "ft = 0.015 #Crane 410, A-27, for 6\"\n",
    "L = 400*u.feet\n",
    "D = d2.to(u.feet)\n",
    "K = ft*L/D\n",
    "\n",
    "K_pipe = K"
   ]
  },
  {
   "cell_type": "code",
   "execution_count": 7,
   "metadata": {},
   "outputs": [
    {
     "data": {
      "text/html": [
       "15.174452488653104 dimensionless"
      ],
      "text/latex": [
       "$15.174452488653104\\ dimensionless$"
      ],
      "text/plain": [
       "<Quantity(15.174452488653104, 'dimensionless')>"
      ]
     },
     "execution_count": 7,
     "metadata": {},
     "output_type": "execute_result"
    }
   ],
   "source": [
    "Ktot = K_pipe + K_elbow + K_globe + K_venturi\n",
    "Ktot"
   ]
  },
  {
   "cell_type": "markdown",
   "metadata": {},
   "source": [
    "# Re"
   ]
  },
  {
   "cell_type": "code",
   "execution_count": 8,
   "metadata": {},
   "outputs": [
    {
     "data": {
      "text/plain": [
       "3653115.6053566546"
      ]
     },
     "execution_count": 8,
     "metadata": {},
     "output_type": "execute_result"
    }
   ],
   "source": [
    "W = 90000*u.lb/u.hour #steam flow rate\n",
    "Re = (6.315*W/(d2.to(u.inch)*mu)).magnitude\n",
    "\n",
    "Re"
   ]
  },
  {
   "cell_type": "markdown",
   "metadata": {},
   "source": [
    "Fully turbulent flow at this Re"
   ]
  },
  {
   "cell_type": "markdown",
   "metadata": {},
   "source": [
    "# delta P"
   ]
  },
  {
   "cell_type": "code",
   "execution_count": 9,
   "metadata": {},
   "outputs": [
    {
     "data": {
      "text/html": [
       "38.9 pound_force_per_square_inch"
      ],
      "text/latex": [
       "$38.9\\ \\mathrm{pound_force_per_square_inch}$"
      ],
      "text/plain": [
       "<Quantity(38.9, 'pound_force_per_square_inch')>"
      ]
     },
     "execution_count": 9,
     "metadata": {},
     "output_type": "execute_result"
    }
   ],
   "source": [
    "delta_P = ((2.799e-7)*Ktot*(W**2)*V_bar/(d2.to(u.inch)**4)).magnitude*u.psi\n",
    "\n",
    "delta_P.round(1)"
   ]
  },
  {
   "cell_type": "markdown",
   "metadata": {},
   "source": []
  }
 ],
 "metadata": {
  "kernelspec": {
   "display_name": "Python 3",
   "language": "python",
   "name": "python3"
  },
  "language_info": {
   "codemirror_mode": {
    "name": "ipython",
    "version": 3
   },
   "file_extension": ".py",
   "mimetype": "text/x-python",
   "name": "python",
   "nbconvert_exporter": "python",
   "pygments_lexer": "ipython3",
   "version": "3.6.3"
  }
 },
 "nbformat": 4,
 "nbformat_minor": 2
}
