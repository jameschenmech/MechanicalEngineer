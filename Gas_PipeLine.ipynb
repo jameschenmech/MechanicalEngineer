{
 "cells": [
  {
   "cell_type": "code",
   "execution_count": 1,
   "metadata": {
    "collapsed": true
   },
   "outputs": [],
   "source": [
    "import thermo\n",
    "#from thermo.chemical import Chemical"
   ]
  },
  {
   "cell_type": "code",
   "execution_count": 2,
   "metadata": {
    "collapsed": true
   },
   "outputs": [],
   "source": [
    "import math\n",
    "import fluids\n",
    "from fluids.units import *"
   ]
  },
  {
   "cell_type": "markdown",
   "metadata": {},
   "source": [
    "Given:  A natural gas pipeline, made of 14\" Schedule 20 pipe, is 100 miles long.  The inlet pressure is 1300 psia, the outlet pressure is 300 psia, and the average temperature is 40 degF.  The gas consists of 75% methane (CH4), 21% ethane (C2H6), and 4% propane (C3H8)"
   ]
  },
  {
   "cell_type": "markdown",
   "metadata": {},
   "source": [
    "Find:  The flow rate in millions of standard cubic feet per day (MMscfd)"
   ]
  },
  {
   "cell_type": "markdown",
   "metadata": {},
   "source": [
    "# Simplified Isotermal Equation, Crane 410, B-3"
   ]
  },
  {
   "cell_type": "code",
   "execution_count": 3,
   "metadata": {},
   "outputs": [
    {
     "data": {
      "text/plain": [
       "(<Quantity(13.376377952755906, 'inch')>, <Quantity(499.6699995999999, 'degR')>)"
      ]
     },
     "execution_count": 3,
     "metadata": {},
     "output_type": "execute_result"
    }
   ],
   "source": [
    "d = (nearest_pipe(NPS=14*u.inch, schedule='20')[1]).to(u.inch)\n",
    "Lm = 100*u.miles\n",
    "L = Lm.to(u.feet)\n",
    "P1 = 1300*u.psi\n",
    "P2 = 300*u.psi\n",
    "T = (40*u.degF).to(u.degR)\n",
    "\n",
    "d, T"
   ]
  },
  {
   "cell_type": "markdown",
   "metadata": {},
   "source": [
    "Molecular Weights"
   ]
  },
  {
   "cell_type": "code",
   "execution_count": 4,
   "metadata": {},
   "outputs": [
    {
     "data": {
      "text/plain": [
       "20.060000000000002"
      ]
     },
     "execution_count": 4,
     "metadata": {},
     "output_type": "execute_result"
    }
   ],
   "source": [
    "M_C = 12.0  #Approximate molecular mass of Carbon\n",
    "M_H = 1.0  #Approximate molecular mass of Hydrogen\n",
    "\n",
    "#Approximate Molecular masses\n",
    "\n",
    "#Methane\n",
    "M_CH4 = 1*M_C + 4*M_H\n",
    "\n",
    "#Ethane\n",
    "M_C2H6 = 2*M_C + 6*M_H\n",
    "\n",
    "#Propane\n",
    "M_C3H8 = 3*M_C + 8*M_H\n",
    "\n",
    "#Natural Gas\n",
    "p_CH4 = 0.75\n",
    "p_C2H6 = 0.21\n",
    "p_C3H8 = 0.04\n",
    "M_NG = M_CH4*p_CH4 + M_C2H6*p_C2H6 + M_C3H8*p_C3H8\n",
    "\n",
    "M_NG"
   ]
  },
  {
   "cell_type": "code",
   "execution_count": 5,
   "metadata": {},
   "outputs": [
    {
     "data": {
      "text/plain": [
       "(0.6925360767796728, 0.0128)"
      ]
     },
     "execution_count": 5,
     "metadata": {},
     "output_type": "execute_result"
    }
   ],
   "source": [
    "#Specific gravity\n",
    "M_air = 28.966 #Crane 410, page 6-7\n",
    "\n",
    "Sg = M_NG/M_air\n",
    "\n",
    "f = 0.0128  #Assume Turburlent - Read off Crane 410, A-26\n",
    "\n",
    "Sg, f"
   ]
  },
  {
   "cell_type": "code",
   "execution_count": 6,
   "metadata": {},
   "outputs": [],
   "source": [
    "Tb = 520*u.degR #alsolute temperature at standard conditions\n",
    "Pb = 14.7*u.psi #absolute pressure at standard conditions\n"
   ]
  },
  {
   "cell_type": "code",
   "execution_count": 7,
   "metadata": {
    "scrolled": true
   },
   "outputs": [
    {
     "data": {
      "text/plain": [
       "'107.88 MMscfd'"
      ]
     },
     "execution_count": 7,
     "metadata": {},
     "output_type": "execute_result"
    }
   ],
   "source": [
    "qh = (3.2308*(Tb/Pb)*(((P1**2 - P2**2)/(f*L.to(u.miles)*T*Sg))**0.5)*(d**2.5)).magnitude*u.feet**3/u.hr\n",
    "\n",
    "qd = (qh).to(u.feet**3/u.day)\n",
    "\n",
    "'{:.2f} MMscfd'.format(qd.magnitude/1e6)\n"
   ]
  },
  {
   "cell_type": "markdown",
   "metadata": {},
   "source": [
    "Calculate Re to verify choice of f=0.0128"
   ]
  },
  {
   "cell_type": "code",
   "execution_count": 8,
   "metadata": {},
   "outputs": [
    {
     "data": {
      "text/plain": [
       "'1.02e+07'"
      ]
     },
     "execution_count": 8,
     "metadata": {},
     "output_type": "execute_result"
    }
   ],
   "source": [
    "mu = 0.011*u.cP #estimated for methane, Crane 410, A-6\n",
    "\n",
    "Re = (0.4821*qh*Sg/(d*mu)).magnitude\n",
    "\n",
    "'{:.2e}'.format(Re)"
   ]
  },
  {
   "cell_type": "code",
   "execution_count": 9,
   "metadata": {},
   "outputs": [],
   "source": [
    "f = 0.0128 #Re-affirmed the choice of f from Crane 410, A-26"
   ]
  },
  {
   "cell_type": "markdown",
   "metadata": {},
   "source": [
    "Since the assumed friction factor (f=0.0128) is correct, the flow rate is 107.8 MMscfd.  If the friction fractor were incorrect, repeat until the assumed friction factor was in reasonable agreement with that based upon the calculated Reynolds number."
   ]
  },
  {
   "cell_type": "markdown",
   "metadata": {},
   "source": [
    "# Waymouth equation, Crane 410, page 6-3"
   ]
  },
  {
   "cell_type": "code",
   "execution_count": 10,
   "metadata": {},
   "outputs": [
    {
     "data": {
      "text/plain": [
       "'105.22 MMscfd'"
      ]
     },
     "execution_count": 10,
     "metadata": {},
     "output_type": "execute_result"
    }
   ],
   "source": [
    "qh_way = (18.062*(Tb/Pb)*(((P1**2 - P2**2)/(Lm*T*Sg))**0.5)*d**2.667).magnitude*u.feet**3/u.hour\n",
    "\n",
    "qd_way = qh_way.to(u.feet**3/u.day)\n",
    "\n",
    "'{:.2f} MMscfd'.format(qd_way.magnitude/1e6)"
   ]
  },
  {
   "cell_type": "markdown",
   "metadata": {},
   "source": [
    "# Panhandle A Equation Crane 410, page 6-3"
   ]
  },
  {
   "cell_type": "code",
   "execution_count": 11,
   "metadata": {},
   "outputs": [
    {
     "data": {
      "text/plain": [
       "'128.34 MMscfd'"
      ]
     },
     "execution_count": 11,
     "metadata": {},
     "output_type": "execute_result"
    }
   ],
   "source": [
    "E = 0.92 #Assume average operating conditions, Crane 410,, 6-4\n",
    "\n",
    "qh_pan = (18.161*E*((Tb/Pb)**1.0788)*(((P1**2 - P2**2)/(Lm*T*Sg**0.8539))**0.5394)*d**2.6182).magnitude*u.feet**3/u.hr\n",
    "\n",
    "qd_pan = qh_pan.to(u.feet**3/u.day)\n",
    "\n",
    "'{:.2f} MMscfd'.format(qd_pan.magnitude/1e6)"
   ]
  },
  {
   "cell_type": "code",
   "execution_count": null,
   "metadata": {
    "collapsed": true
   },
   "outputs": [],
   "source": []
  }
 ],
 "metadata": {
  "kernelspec": {
   "display_name": "Python 3",
   "language": "python",
   "name": "python3"
  },
  "language_info": {
   "codemirror_mode": {
    "name": "ipython",
    "version": 3
   },
   "file_extension": ".py",
   "mimetype": "text/x-python",
   "name": "python",
   "nbconvert_exporter": "python",
   "pygments_lexer": "ipython3",
   "version": "3.6.3"
  }
 },
 "nbformat": 4,
 "nbformat_minor": 2
}
