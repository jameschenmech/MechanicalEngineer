{
 "cells": [
  {
   "cell_type": "markdown",
   "metadata": {},
   "source": [
    "# Orifice Flow Rate Calculation"
   ]
  },
  {
   "cell_type": "markdown",
   "metadata": {},
   "source": [
    "A differential pressure of 2.5 psi is measured across taps located 1 diameter upstream and 0.5 diamter downstream from the inlet face of a 2.000\" ID orifice plate assembled in a 3\" Schedule 80 steel pipe carrying water at 60 degF.\n",
    "Find the flowrate"
   ]
  },
  {
   "cell_type": "code",
   "execution_count": 1,
   "metadata": {
    "collapsed": true
   },
   "outputs": [],
   "source": [
    "import fluids\n",
    "from fluids.units import *\n",
    "from fluids.control_valve import size_control_valve_l\n",
    "from thermo.chemical import Chemical\n",
    "import math"
   ]
  },
  {
   "cell_type": "markdown",
   "metadata": {},
   "source": [
    "get the nearest internal pipe diameter"
   ]
  },
  {
   "cell_type": "code",
   "execution_count": 2,
   "metadata": {
    "collapsed": true
   },
   "outputs": [],
   "source": [
    "deltaP = 2.5*u.psi\n",
    "d1 = 2*u.inch\n",
    "#d2 = nearest_pipe(Do=3*u.inch, schedule = '80s')\n",
    "d2 = nearest_pipe(Do=3*u.inch, schedule='80')[1].to(u.inch)"
   ]
  },
  {
   "cell_type": "code",
   "execution_count": 3,
   "metadata": {},
   "outputs": [
    {
     "data": {
      "text/html": [
       "0.689655172413793 dimensionless"
      ],
      "text/latex": [
       "$0.689655172413793\\ dimensionless$"
      ],
      "text/plain": [
       "<Quantity(0.689655172413793, 'dimensionless')>"
      ]
     },
     "execution_count": 3,
     "metadata": {},
     "output_type": "execute_result"
    }
   ],
   "source": [
    "beta = d1/d2\n",
    "beta"
   ]
  },
  {
   "cell_type": "markdown",
   "metadata": {},
   "source": [
    "According to Crane 410, 4-2, Limits of Use.  For orifice plates with corner taps or 1D-1/2D taps, for beta>0.56, Re >=5000.  Since flow in pipe is not given let's assume an Re of 5000."
   ]
  },
  {
   "cell_type": "code",
   "execution_count": 4,
   "metadata": {
    "collapsed": true
   },
   "outputs": [],
   "source": [
    "Re = 100000\n",
    "L1 = 1 # Ratio of upstream tap distance to pipe diameter\n",
    "L2_prime = 0.47 #Ratio of downstream tap distance to pipe diameter, less than 0.5 due to orifice plate thinkness\n",
    "M2_prime = 2*L2_prime/(1-beta)\n",
    "J = (19000*beta/Re)**0.8"
   ]
  },
  {
   "cell_type": "code",
   "execution_count": 5,
   "metadata": {},
   "outputs": [
    {
     "data": {
      "text/html": [
       "0.6164124716452033 dimensionless"
      ],
      "text/latex": [
       "$0.6164124716452033\\ dimensionless$"
      ],
      "text/plain": [
       "<Quantity(0.6164124716452033, 'dimensionless')>"
      ]
     },
     "execution_count": 5,
     "metadata": {},
     "output_type": "execute_result"
    }
   ],
   "source": [
    "Cd = 0.5961 + 0.0261*beta**2 - 0.216*beta**8 + 0.000521*(beta*10**6/Re)**0.7 \\\n",
    "    +(0.0188+0.0063*J)*beta**3.5*(10**6/Re)**0.3 + (0.043+0.080*math.exp(-10*L1)-0.123*math.exp(-7*L1))\\\n",
    "    *(1-0.11*J)*(beta**4/(1-beta**4)) - 0.031*(M2_prime-0.8*M2_prime**1.1)*beta**1.3 + 0.011*(0.75-beta)*(2.8-d2.magnitude)\n",
    "\n",
    "Cd"
   ]
  },
  {
   "cell_type": "code",
   "execution_count": 6,
   "metadata": {},
   "outputs": [
    {
     "data": {
      "text/html": [
       "0.7007485816011257 dimensionless"
      ],
      "text/latex": [
       "$0.7007485816011257\\ dimensionless$"
      ],
      "text/plain": [
       "<Quantity(0.7007485816011257, 'dimensionless')>"
      ]
     },
     "execution_count": 6,
     "metadata": {},
     "output_type": "execute_result"
    }
   ],
   "source": [
    "C = Cd/math.sqrt(1-beta**4)\n",
    "\n",
    "C"
   ]
  },
  {
   "cell_type": "markdown",
   "metadata": {},
   "source": [
    "Get the density of water assume water if P=2atm"
   ]
  },
  {
   "cell_type": "code",
   "execution_count": 7,
   "metadata": {},
   "outputs": [
    {
     "data": {
      "text/plain": [
       "(<Quantity(62.47022612300394, 'pound / cubic_foot')>, 1.1348540881678713)"
      ]
     },
     "execution_count": 7,
     "metadata": {},
     "output_type": "execute_result"
    }
   ],
   "source": [
    "T = (60*u.degF).to(u.degK)\n",
    "P = (2*14.7*u.psi).to(u.Pa)\n",
    "\n",
    "water = Chemical('water', P=P.magnitude , T=T.magnitude)\n",
    "S = water.SG #specific gravity\n",
    "rho = water.rho #density\n",
    "rho = (rho*u.kilogram/(u.meter**3)).to(u.lb/u.cubic_feet)\n",
    "mu = water.mu #viscosity\n",
    "mu = mu*1000 #cP\n",
    "\n",
    "rho, mu\n"
   ]
  },
  {
   "cell_type": "code",
   "execution_count": 8,
   "metadata": {},
   "outputs": [
    {
     "data": {
      "text/html": [
       "131.54783103899248 gallon/minute"
      ],
      "text/latex": [
       "$131.54783103899248\\ \\frac{\\mathrm{gallon}}{\\mathrm{minute}}$"
      ],
      "text/plain": [
       "<Quantity(131.54783103899248, 'gallon / minute')>"
      ]
     },
     "execution_count": 8,
     "metadata": {},
     "output_type": "execute_result"
    }
   ],
   "source": [
    "Q = 234.6*d1.magnitude**2*C*math.sqrt(deltaP.magnitude/rho.magnitude)\n",
    "Q = Q*u.gallon/u.minute\n",
    "Q"
   ]
  },
  {
   "cell_type": "markdown",
   "metadata": {},
   "source": [
    "Recalculate Re using this Q"
   ]
  },
  {
   "cell_type": "code",
   "execution_count": 9,
   "metadata": {},
   "outputs": [
    {
     "data": {
      "text/plain": [
       "126498.07914577075"
      ]
     },
     "execution_count": 9,
     "metadata": {},
     "output_type": "execute_result"
    }
   ],
   "source": [
    "Re = 50.66*Q.magnitude*rho.magnitude/(d2.magnitude*mu)\n",
    "Re"
   ]
  },
  {
   "cell_type": "code",
   "execution_count": 10,
   "metadata": {},
   "outputs": [
    {
     "data": {
      "text/plain": [
       "(<Quantity(0.6153654399192205, 'dimensionless')>,\n",
       " <Quantity(0.6995582974478614, 'dimensionless')>)"
      ]
     },
     "execution_count": 10,
     "metadata": {},
     "output_type": "execute_result"
    }
   ],
   "source": [
    "Cd = 0.5961 + 0.0261*beta**2 - 0.216*beta**8 + 0.000521*(beta*10**6/Re)**0.7 \\\n",
    "    +(0.0188+0.0063*J)*beta**3.5*(10**6/Re)**0.3 + (0.043+0.080*math.exp(-10*L1)-0.123*math.exp(-7*L1))\\\n",
    "    *(1-0.11*J)*(beta**4/(1-beta**4)) - 0.031*(M2_prime-0.8*M2_prime**1.1)*beta**1.3 + 0.011*(0.75-beta)*(2.8-d2.magnitude)\n",
    "C = Cd/math.sqrt(1-beta**4)\\\n",
    "\n",
    "Cd, C\n"
   ]
  },
  {
   "cell_type": "code",
   "execution_count": 11,
   "metadata": {},
   "outputs": [
    {
     "data": {
      "text/html": [
       "131.32438527999537 gallon/minute"
      ],
      "text/latex": [
       "$131.32438527999537\\ \\frac{\\mathrm{gallon}}{\\mathrm{minute}}$"
      ],
      "text/plain": [
       "<Quantity(131.32438527999537, 'gallon / minute')>"
      ]
     },
     "execution_count": 11,
     "metadata": {},
     "output_type": "execute_result"
    }
   ],
   "source": [
    "Q = 234.6*d1.magnitude**2*C*math.sqrt(deltaP.magnitude/rho.magnitude)\n",
    "Q = Q*u.gallon/u.minute\n",
    "Q"
   ]
  },
  {
   "cell_type": "markdown",
   "metadata": {},
   "source": [
    "The solution in Crane 410 uses the appendix figures.  The solution is about the same."
   ]
  },
  {
   "cell_type": "code",
   "execution_count": null,
   "metadata": {
    "collapsed": true
   },
   "outputs": [],
   "source": []
  }
 ],
 "metadata": {
  "kernelspec": {
   "display_name": "Python 3",
   "language": "python",
   "name": "python3"
  },
  "language_info": {
   "codemirror_mode": {
    "name": "ipython",
    "version": 3
   },
   "file_extension": ".py",
   "mimetype": "text/x-python",
   "name": "python",
   "nbconvert_exporter": "python",
   "pygments_lexer": "ipython3",
   "version": "3.6.3"
  }
 },
 "nbformat": 4,
 "nbformat_minor": 2
}
