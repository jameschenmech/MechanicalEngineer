{
 "cells": [
  {
   "cell_type": "code",
   "execution_count": 1,
   "metadata": {
    "collapsed": true
   },
   "outputs": [],
   "source": [
    "import math\n",
    "import fluids\n",
    "from fluids.units import *\n"
   ]
  },
  {
   "cell_type": "markdown",
   "metadata": {},
   "source": [
    "Given:  Fuel oil with a densty of 0.815 grams per cubic centimeter and a kinematic viscosity of 2.7 centistokes is flowing through 50 millimeter I.D. steel pipe (30 meters long) ata rate of 7.0 liters per second.\n",
    "\n",
    "Find:  Head loss in meters of fluid and pressure drop in kg/cm^2, bar and megapascals(MPa)"
   ]
  },
  {
   "cell_type": "code",
   "execution_count": 2,
   "metadata": {},
   "outputs": [
    {
     "data": {
      "text/html": [
       "3.5650707252584555 meter/second"
      ],
      "text/latex": [
       "$3.5650707252584555\\ \\frac{\\mathrm{meter}}{\\mathrm{second}}$"
      ],
      "text/plain": [
       "<Quantity(3.5650707252584555, 'meter / second')>"
      ]
     },
     "execution_count": 2,
     "metadata": {},
     "output_type": "execute_result"
    }
   ],
   "source": [
    "q = 7.0*u.liter/u.sec\n",
    "\n",
    "q = q.to(u.meter**3/u.sec) \n",
    "\n",
    "\n",
    "ID = 50 *u.millimeter\n",
    "\n",
    "A = (math.pi*(ID/2)**2).to(u.meter**2)  #Cross sectional area of pipe\n",
    "\n",
    "v = q/A\n",
    "\n",
    "v"
   ]
  },
  {
   "cell_type": "code",
   "execution_count": 3,
   "metadata": {},
   "outputs": [
    {
     "data": {
      "text/plain": [
       "(<Quantity(0.01965492020306346, 'dimensionless')>, 66020.51045178324)"
      ]
     },
     "execution_count": 3,
     "metadata": {},
     "output_type": "execute_result"
    }
   ],
   "source": [
    "mu = 2.7*u.cP\n",
    "Re =  (7742*(ID.to(u.inch)*v.to(u.feet/u.sec))/mu).magnitude\n",
    "Re\n",
    "\n",
    "\n",
    "e = roughness_Farshad('Carbon steel, bare', D=ID)\n",
    "f = friction_factor(Re=Re, eD=e/ID)  #friction factor for 2-1/2\" pipe\n",
    "\n",
    "f, Re"
   ]
  },
  {
   "cell_type": "markdown",
   "metadata": {},
   "source": [
    "# delta P"
   ]
  },
  {
   "cell_type": "code",
   "execution_count": 4,
   "metadata": {},
   "outputs": [
    {
     "data": {
      "text/plain": [
       "(<Quantity(7.647205552781135, 'meter')>,\n",
       " <Quantity(30, 'meter')>,\n",
       " <Quantity(0.05, 'meter')>,\n",
       " <Quantity(3.5650707252584555, 'meter / second')>,\n",
       " <Quantity(0.01965492020306346, 'dimensionless')>)"
      ]
     },
     "execution_count": 4,
     "metadata": {},
     "output_type": "execute_result"
    }
   ],
   "source": [
    "g = 9.8*u.meter/u.sec**2\n",
    "L = 30*u.meter\n",
    "D = ID.to(u.meter)\n",
    "\n",
    "hL = f*L/D*(v**2)/(2*g)\n",
    "\n",
    "hL, L, D, v, f"
   ]
  },
  {
   "cell_type": "code",
   "execution_count": 5,
   "metadata": {},
   "outputs": [
    {
     "data": {
      "text/plain": [
       "(<Quantity(0.6232472525516625, 'kilogram / centimeter ** 2')>,\n",
       " <Quantity(0.6111998831598389, 'bar')>,\n",
       " <Quantity(0.06111998831598389, 'megapascal')>)"
      ]
     },
     "execution_count": 5,
     "metadata": {},
     "output_type": "execute_result"
    }
   ],
   "source": [
    "rho = 0.815*u.gram/u.centimeter**3\n",
    "\n",
    "delta_P = (rho*hL.to(u.cm)).to(u.kg/u.cm**2) #this pressure messes up the build in unit conversions, kg is a mass\n",
    "\n",
    "delta_P_bar = delta_P.magnitude*0.98067*u.bar\n",
    "\n",
    "delta_P_Mpa = delta_P_bar.to(u.MPa)\n",
    "\n",
    "delta_P, delta_P_bar, delta_P_Mpa"
   ]
  },
  {
   "cell_type": "code",
   "execution_count": null,
   "metadata": {
    "collapsed": true
   },
   "outputs": [],
   "source": []
  }
 ],
 "metadata": {
  "kernelspec": {
   "display_name": "Python 3",
   "language": "python",
   "name": "python3"
  },
  "language_info": {
   "codemirror_mode": {
    "name": "ipython",
    "version": 3
   },
   "file_extension": ".py",
   "mimetype": "text/x-python",
   "name": "python",
   "nbconvert_exporter": "python",
   "pygments_lexer": "ipython3",
   "version": "3.6.3"
  }
 },
 "nbformat": 4,
 "nbformat_minor": 2
}
