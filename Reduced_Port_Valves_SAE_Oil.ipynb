{
 "cells": [
  {
   "cell_type": "code",
   "execution_count": 1,
   "metadata": {
    "collapsed": true
   },
   "outputs": [],
   "source": [
    "import math\n",
    "import fluids\n",
    "from fluids.units import *\n"
   ]
  },
  {
   "cell_type": "markdown",
   "metadata": {},
   "source": [
    "Given:  S.A.E. 10W Oil at 60 degF discharges from a tank with 22-feet average head to atmosphere through:\n",
    "        200 feet - 3\" Schedule 40 pipe\n",
    "        6 - 3\" standard 90 deg threaded elbows\n",
    "        1 - 3\" flanged ball valve having a 2-3/8\" diameter seat, 16 deg conical inlet, and 30 deg conical outlet end.  Sharp-edged entrance is flush with the inside of the tank.\n",
    "        \n",
    "Find: Velocity of flow in the pipe and rate of discharge in gallons per minute."
   ]
  },
  {
   "cell_type": "code",
   "execution_count": 2,
   "metadata": {
    "collapsed": true
   },
   "outputs": [],
   "source": [
    "T = (60*u.degF).to(u.degK)"
   ]
  },
  {
   "cell_type": "markdown",
   "metadata": {},
   "source": [
    "Assume atmospheric pressures"
   ]
  },
  {
   "cell_type": "code",
   "execution_count": 3,
   "metadata": {
    "collapsed": true
   },
   "outputs": [],
   "source": [
    "P = (1*u.atm).to(u.Pa)"
   ]
  },
  {
   "cell_type": "markdown",
   "metadata": {},
   "source": [
    "PubChem does not have SAE data.  Need to read these off Crane Appendixes"
   ]
  },
  {
   "cell_type": "code",
   "execution_count": 4,
   "metadata": {
    "collapsed": true
   },
   "outputs": [],
   "source": [
    "rho = 54.6*u.lb/u.feet**3 #Crane A-8\n",
    "mu = 75*u.cP #Crane A-3"
   ]
  },
  {
   "cell_type": "markdown",
   "metadata": {},
   "source": [
    "# Get the friction coefficient"
   ]
  },
  {
   "cell_type": "code",
   "execution_count": 5,
   "metadata": {},
   "outputs": [
    {
     "data": {
      "text/plain": [
       "(<Quantity(0.042666666666666665, 'dimensionless')>, 0.042666666666666665)"
      ]
     },
     "execution_count": 5,
     "metadata": {},
     "output_type": "execute_result"
    }
   ],
   "source": [
    "d1 = (2+3/8)*u.inch\n",
    "d2 = nearest_pipe(NPS=3*u.inch, schedule='40')[1].to(u.inch)\n",
    "beta = d1/d2\n",
    "\n",
    "#For oil, first assumption of laminar flow is appropriate\n",
    "Re =1.5*10**3\n",
    "\n",
    "e = roughness_Farshad('Carbon steel, bare', D=d2.to(u.meter))\n",
    "f = friction_factor(Re=Re, eD=e/d2.to(u.meter))\n",
    "\n",
    "f_check = 64/Re  #laminar flow friction formula\n",
    "\n",
    "f, f_check  #Turns out the roughness_Fashard uses the liminary friction formula"
   ]
  },
  {
   "cell_type": "markdown",
   "metadata": {},
   "source": [
    "# Sum the Ks"
   ]
  },
  {
   "cell_type": "code",
   "execution_count": 6,
   "metadata": {},
   "outputs": [
    {
     "name": "stdout",
     "output_type": "stream",
     "text": [
      "Total resistance coefficint is 43.07247074284953 dimensionless.\n"
     ]
    }
   ],
   "source": [
    "K_inlet = 0.5 #Crane A-30\n",
    "K_exit = 1.0 #Crane A-30\n",
    "\n",
    "\n",
    "\n",
    "sin_theta_div2_inlet = math.sin(8*math.pi/180)\n",
    "sin_theta_div2_outlet = math.sin(15*math.pi/180)\n",
    "\n",
    "ft = 0.017 #To use the formulas for K2 from Crane 410, K1 is calculated using friciton at complete turbulence\n",
    "            #need to get the ft from A-27.  The difference in using f as calculated for the remainder\n",
    "            #is not large.\n",
    "K1 = 3*ft\n",
    "#Since inlet and outlet angles differ, Formula 5 from Crane A-29 needs to be modified\n",
    "K2 = (K1 + 0.80*sin_theta_div2_inlet*(1-beta) + 2.6*sin_theta_div2_outlet*(1-beta**2)**2)/beta**4\n",
    "K_valve = K2\n",
    "\n",
    "#Elbows\n",
    "n_elbows = 6\n",
    "K_elbows = (30*f) * n_elbows\n",
    "\n",
    "#Pipe\n",
    "D = d2\n",
    "L=200*u.feet\n",
    "K_pipe= f*L/D.to(u.feet)\n",
    "\n",
    "K_tot = K_inlet+K_exit+K_valve+K_elbows+K_pipe\n",
    "\n",
    "print(\"Total resistance coefficint is {}.\".format(K_tot))"
   ]
  },
  {
   "cell_type": "code",
   "execution_count": 7,
   "metadata": {},
   "outputs": [
    {
     "name": "stdout",
     "output_type": "stream",
     "text": [
      " Pipe flow velocity is: 5.735276783902027 foot / second\n",
      " Flow rate is: 132.12842244229753 gallon / minute\n"
     ]
    }
   ],
   "source": [
    "#velocity of flow in the pipe\n",
    "g=32.2*u.feet/u.sec**2\n",
    "hl = 22*u.feet\n",
    "v = math.sqrt((2*g*hl/K_tot).magnitude)*u.feet/u.sec  #math module doesn't handle units\n",
    "\n",
    "#flow in pipe\n",
    "Q =(2.448*v*d2**2).magnitude*u.gallons/u.minute\n",
    "\n",
    "print(\" Pipe flow velocity is: {}\\n Flow rate is: {}\".format(v,Q))"
   ]
  },
  {
   "cell_type": "code",
   "execution_count": 8,
   "metadata": {},
   "outputs": [
    {
     "name": "stdout",
     "output_type": "stream",
     "text": [
      "Reynolds number check is: 1500.0 - 1588.4389219670084 dimensionless =  -88.43892196700835 dimensionless.\n"
     ]
    }
   ],
   "source": [
    "#Calculate the RE number to make sure that we have realistic fricion factor\n",
    "V = v.to(u.meter/u.sec)\n",
    "Re_check = Reynolds(D=d2.to(u.meter), rho=rho.to(u.kg/u.meter**3), V=v, mu=mu.to(u.Pa*u.sec))\n",
    "print(\"Reynolds number check is: {} - {} =  {}.\".format(Re, Re_check, Re-Re_check))"
   ]
  },
  {
   "cell_type": "markdown",
   "metadata": {},
   "source": [
    "Interating the initial guess of Re verse the check R will give the soluton to be about Re=1620.  Our initial guess of laminar flow is correct.  The acceptable answer is ~6 ft/sec and ~130 gallons/min.  Our approach is to change the Re values to get the v to converge."
   ]
  },
  {
   "cell_type": "markdown",
   "metadata": {},
   "source": [
    "# Solution as Provided by Crane 410"
   ]
  },
  {
   "cell_type": "code",
   "execution_count": 9,
   "metadata": {},
   "outputs": [
    {
     "data": {
      "text/plain": [
       "(5.846890090985146, 134.69975260544737)"
      ]
     },
     "execution_count": 9,
     "metadata": {},
     "output_type": "execute_result"
    }
   ],
   "source": [
    "K_valve = 0.59 #from problem with water flowing through the same configuration\n",
    "K_elbow = 3.06 #from same as above\n",
    "K_inlet = 0.5 #Crane A-30\n",
    "K_exit = 1 #Crane A-30\n",
    "rho = 54.4\n",
    "mu = 75\n",
    "hl=22\n",
    "\n",
    "#Assume velocity\n",
    "v=5\n",
    "\n",
    "Re = (124*d2*v*rho/mu).magnitude\n",
    "\n",
    "f = 64/Re #for pipe\n",
    "\n",
    "\n",
    "D = d2.to(u.feet)\n",
    "\n",
    "\n",
    "L = 200*u.feet\n",
    "\n",
    "K_pipe = f*L/D\n",
    "\n",
    "Ktot = K_valve + K_elbow + K_inlet + K_exit + K_pipe\n",
    "\n",
    "v = math.sqrt((2*g*hl/Ktot).magnitude)\n",
    "\n",
    "Q = 2.448*v*(d2.magnitude)**2\n",
    "\n",
    "v, Q"
   ]
  },
  {
   "cell_type": "markdown",
   "metadata": {},
   "source": [
    "Need to guess one of {f,Re} or {v,Q} to start the solution.  Then iterate until v or Q converges."
   ]
  },
  {
   "cell_type": "markdown",
   "metadata": {},
   "source": [
    "\n",
    "The calculation from the fluids module vs what Crane 410 gives is about the same."
   ]
  },
  {
   "cell_type": "code",
   "execution_count": null,
   "metadata": {
    "collapsed": true
   },
   "outputs": [],
   "source": []
  }
 ],
 "metadata": {
  "kernelspec": {
   "display_name": "Python 3",
   "language": "python",
   "name": "python3"
  },
  "language_info": {
   "codemirror_mode": {
    "name": "ipython",
    "version": 3
   },
   "file_extension": ".py",
   "mimetype": "text/x-python",
   "name": "python",
   "nbconvert_exporter": "python",
   "pygments_lexer": "ipython3",
   "version": "3.6.3"
  }
 },
 "nbformat": 4,
 "nbformat_minor": 2
}
