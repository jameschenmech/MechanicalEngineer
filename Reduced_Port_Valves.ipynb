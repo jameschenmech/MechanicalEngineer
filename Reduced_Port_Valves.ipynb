{
 "cells": [
  {
   "cell_type": "code",
   "execution_count": 1,
   "metadata": {
    "collapsed": true
   },
   "outputs": [],
   "source": [
    "import thermo\n",
    "from thermo.chemical import Chemical"
   ]
  },
  {
   "cell_type": "code",
   "execution_count": 2,
   "metadata": {
    "collapsed": true
   },
   "outputs": [],
   "source": [
    "import math\n",
    "import fluids\n",
    "from fluids.units import *\n"
   ]
  },
  {
   "cell_type": "markdown",
   "metadata": {},
   "source": [
    "Given:  Water at 60 degF discharges from a tank with 22-fet average head to atmosphere through:\n",
    "        200 feet - 3\" Schedule 40 pipe\n",
    "        6 - 3\" standard 90 deg threaded elbows\n",
    "        1 - 3\" flanged ball valve having a 2-3/8\" diameter seat, 16 deg conical inlet, and 30 deg conical outlet end.  Sharp-edged entrance is flush with the inside of the tank.\n",
    "        \n",
    "Find: Velocity of flow in the pipe and rate of discharge in gallons per minute."
   ]
  },
  {
   "cell_type": "code",
   "execution_count": 3,
   "metadata": {
    "collapsed": true
   },
   "outputs": [],
   "source": [
    "T = (60*u.degF).to(u.degK)"
   ]
  },
  {
   "cell_type": "markdown",
   "metadata": {},
   "source": [
    "Assume atmospheric pressures"
   ]
  },
  {
   "cell_type": "code",
   "execution_count": 4,
   "metadata": {
    "collapsed": true
   },
   "outputs": [],
   "source": [
    "P = (1*u.atm).to(u.Pa)"
   ]
  },
  {
   "cell_type": "markdown",
   "metadata": {},
   "source": [
    "Get the water properties from PubChem"
   ]
  },
  {
   "cell_type": "code",
   "execution_count": 5,
   "metadata": {
    "collapsed": true
   },
   "outputs": [],
   "source": [
    "water = Chemical('water', P=P.magnitude, T=T.magnitude)"
   ]
  },
  {
   "cell_type": "markdown",
   "metadata": {},
   "source": [
    "# Solve using the fluids-built in functions exclusively"
   ]
  },
  {
   "cell_type": "markdown",
   "metadata": {},
   "source": [
    "Only the following types of clean, new pipe have data available:\n",
    "‘Plastic coated’\n",
    "‘Carbon steel, honed bare’\n",
    "‘Cr13, electropolished bare’\n",
    "‘Cement lining’\n",
    "‘Carbon steel, bare’\n",
    "‘Fiberglass lining’\n",
    "‘Cr13, bare’"
   ]
  },
  {
   "cell_type": "code",
   "execution_count": 6,
   "metadata": {
    "collapsed": true
   },
   "outputs": [],
   "source": [
    "mu = water.mu*u.Pa*u.sec\n",
    "rho = water.rho*u.kilogram/u.meter**3\n",
    "\n",
    "d1 = (2+3/8)*u.inch\n",
    "d2 = nearest_pipe(NPS=3*u.inch, schedule='40')[1].to(u.inch)\n",
    "beta = d1/d2"
   ]
  },
  {
   "cell_type": "markdown",
   "metadata": {},
   "source": [
    "# Sum the Ks"
   ]
  },
  {
   "cell_type": "code",
   "execution_count": 7,
   "metadata": {
    "collapsed": true
   },
   "outputs": [],
   "source": [
    "K_inlet = 0.5 #Crane A-30\n",
    "K_exit = 1.0 #Crane A-30\n",
    "\n",
    "\n",
    "#Re for fully turbulent flow\n",
    "Re = 10**8\n",
    "\n",
    "e = roughness_Farshad('Carbon steel, bare', D=d2.to(u.meter))\n",
    "f = friction_factor(Re=Re, eD=e/d2.to(u.meter))\n",
    "\n",
    "sin_theta_div2_inlet = math.sin(8*math.pi/180)\n",
    "sin_theta_div2_outlet = math.sin(15*math.pi/180)\n",
    "\n",
    "ft = 0.017 #To use the formulas for K2 from Crane 410, K1 is calculated using friciton at complete turbulence\n",
    "            #need to get the ft from A-27.  The difference in using f as calculated for the remainder\n",
    "            #is not large.\n",
    "K1 = 3*ft\n",
    "#Since inlet and outlet angles differ, Formula 5 from Crane A-29 needs to be modified\n",
    "K2 = (K1 + 0.80*sin_theta_div2_inlet*(1-beta) + 2.6*sin_theta_div2_outlet*(1-beta**2)**2)/beta**4\n",
    "K_valve = K2\n",
    "\n",
    "#Elbows\n",
    "n_elbows = 6\n",
    "K_elbows = (30*f) * n_elbows\n",
    "\n",
    "#Pipe\n",
    "D = d2\n",
    "L=200*u.feet\n",
    "K_pipe= f*L/D.to(u.feet)\n",
    "\n",
    "K_tot = K_inlet+K_exit+K_valve+K_elbows+K_pipe"
   ]
  },
  {
   "cell_type": "code",
   "execution_count": 8,
   "metadata": {},
   "outputs": [
    {
     "name": "stdout",
     "output_type": "stream",
     "text": [
      " Pipe flow velocity is: 8.941725633644984 foot / second\n",
      " Flow rate is: 205.99809676169716 gallon / minute\n"
     ]
    }
   ],
   "source": [
    "#velocity of flow in the pipe\n",
    "g=32.2*u.feet/u.sec**2\n",
    "hl = 22*u.feet\n",
    "v = math.sqrt((2*g*hl/K_tot).magnitude)*u.feet/u.sec  #math module doesn't handle units\n",
    "\n",
    "#flow in pipe\n",
    "Q =(2.448*v*d2**2).magnitude*u.gallons/u.minute\n",
    "\n",
    "print(\" Pipe flow velocity is: {}\\n Flow rate is: {}\".format(v,Q))"
   ]
  },
  {
   "cell_type": "code",
   "execution_count": 9,
   "metadata": {},
   "outputs": [
    {
     "data": {
      "text/html": [
       "187292.6611424989 dimensionless"
      ],
      "text/latex": [
       "$187292.6611424989\\ dimensionless$"
      ],
      "text/plain": [
       "<Quantity(187292.6611424989, 'dimensionless')>"
      ]
     },
     "execution_count": 9,
     "metadata": {},
     "output_type": "execute_result"
    }
   ],
   "source": [
    "#Calculate the RE number to make sure that we have realistic fricion factor\n",
    "V = v.to(u.meter/u.sec)\n",
    "Re = Reynolds(D=d2.to(u.meter), rho=rho, V=v, mu=mu)\n",
    "Re"
   ]
  },
  {
   "cell_type": "markdown",
   "metadata": {},
   "source": [
    "Reading off Crane A-26, with the Re=1.8x10^5 places us in the transistion zone, and f is ~0.02.  Crane says for this small difference we can forgo any correctoin of K for the pipe.\n",
    "The correction is to use the f=0.02 the above calculations.\n",
    "Great thing about have this programmed is that we can interate.  If we set the Re=1.76x10^5 for the friciton factor calculation we also get the flow conditions we need to give us back the same Re."
   ]
  },
  {
   "cell_type": "markdown",
   "metadata": {},
   "source": [
    "# Solution as Provided by Crane 410"
   ]
  },
  {
   "cell_type": "code",
   "execution_count": 10,
   "metadata": {},
   "outputs": [
    {
     "name": "stdout",
     "output_type": "stream",
     "text": [
      " Pipe flow velocity is: 8.781555746535433 foot / second\n",
      " Flow rate is: 202.30812759299954 gallon / minute\n",
      "183940.7488175578\n"
     ]
    }
   ],
   "source": [
    "f = 0.017 #Crane A-27\n",
    "\n",
    "K1 = 3*f\n",
    "#Since inlet and outlet angles differ, Formula 5 from Crane A-29 needs to be modified\n",
    "K2 = (K1 + 0.80*sin_theta_div2_inlet*(1-beta) + 2.6*sin_theta_div2_outlet*(1-beta**2)**2)/beta**4\n",
    "\n",
    "\n",
    "#Elbows\n",
    "n_elbows = 6\n",
    "K_elbows = (30*f) * n_elbows\n",
    "\n",
    "#Pipe\n",
    "D = d2\n",
    "L=200*u.feet\n",
    "K_pipe= f*L/D.to(u.feet)\n",
    "\n",
    "K_tot = K_inlet+K_exit+K_valve+K_elbows+K_pipe\n",
    "\n",
    "#velocity of flow in the pipe\n",
    "g=32.2*u.feet/u.sec**2\n",
    "hl = 22*u.feet\n",
    "v = math.sqrt((2*g*hl/K_tot).magnitude)*u.feet/u.sec  #math module doesn't handle units\n",
    "\n",
    "#flow in pipe\n",
    "Q =(2.448*v*d2**2).magnitude*u.gallons/u.minute\n",
    "\n",
    "print(\" Pipe flow velocity is: {}\\n Flow rate is: {}\".format(v,Q))\n",
    "\n",
    "#Calculate Reynolds number to verify that friciton factor of 0.017 is correct fo flow conditions:\n",
    "Rho = rho.to(u.lb/u.feet**3)\n",
    "Mu = mu.to(u.cP) \n",
    "Re = (50.66*Q*Rho/(d2*Mu)).magnitude\n",
    "print(Re)"
   ]
  },
  {
   "cell_type": "markdown",
   "metadata": {},
   "source": [
    "Note from Crane solution:  f for 3\" pipe is less than 0.02. Therefore, flow is in the transition zone (slightly less than fully turbulent) bu the difference is small enough to forego any correction of K for the pipe."
   ]
  },
  {
   "cell_type": "markdown",
   "metadata": {},
   "source": [
    "\n",
    "The calculation from the fluids module vs what Crane 410 gives is pretty close."
   ]
  }
 ],
 "metadata": {
  "kernelspec": {
   "display_name": "Python 3",
   "language": "python",
   "name": "python3"
  },
  "language_info": {
   "codemirror_mode": {
    "name": "ipython",
    "version": 3
   },
   "file_extension": ".py",
   "mimetype": "text/x-python",
   "name": "python",
   "nbconvert_exporter": "python",
   "pygments_lexer": "ipython3",
   "version": "3.6.3"
  }
 },
 "nbformat": 4,
 "nbformat_minor": 2
}
