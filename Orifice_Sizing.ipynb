{
 "cells": [
  {
   "cell_type": "code",
   "execution_count": 1,
   "metadata": {
    "collapsed": true
   },
   "outputs": [],
   "source": [
    "import thermo\n",
    "from thermo.chemical import Chemical"
   ]
  },
  {
   "cell_type": "code",
   "execution_count": 2,
   "metadata": {},
   "outputs": [],
   "source": [
    "import math\n",
    "import fluids\n",
    "from fluids.units import *\n"
   ]
  },
  {
   "cell_type": "markdown",
   "metadata": {},
   "source": [
    "Given:  A 12\" Schedule 40 steel pipe 60' long, containing a standard gate valve 10' from the entrance, discharges 60 degF water to atmosphere from a reservoir.  The entrance projects inward into the reservoir and its center line is 12' below the water level in the reservoir."
   ]
  },
  {
   "cell_type": "markdown",
   "metadata": {},
   "source": [
    "Find:  The diameter of thni-plate orifice that must be centrally installed in the pipe to restrict the veocity of flow to 10' per second when the gate valve is wide open."
   ]
  },
  {
   "cell_type": "code",
   "execution_count": 3,
   "metadata": {
    "collapsed": true
   },
   "outputs": [],
   "source": [
    "T = (60*u.degF).to(u.degK)"
   ]
  },
  {
   "cell_type": "markdown",
   "metadata": {},
   "source": [
    "Assume atmospheric pressures"
   ]
  },
  {
   "cell_type": "code",
   "execution_count": 4,
   "metadata": {
    "collapsed": true
   },
   "outputs": [],
   "source": [
    "P = (1*u.atm).to(u.Pa)"
   ]
  },
  {
   "cell_type": "markdown",
   "metadata": {},
   "source": [
    "Get the water properties from PubChem"
   ]
  },
  {
   "cell_type": "code",
   "execution_count": 5,
   "metadata": {
    "collapsed": true
   },
   "outputs": [],
   "source": [
    "water = Chemical('water', P=P.magnitude, T=T.magnitude)"
   ]
  },
  {
   "cell_type": "markdown",
   "metadata": {},
   "source": [
    "# Solve using the fluids-built in functions exclusively"
   ]
  },
  {
   "cell_type": "markdown",
   "metadata": {},
   "source": [
    "Only the following types of clean, new pipe have data available:\n",
    "‘Plastic coated’\n",
    "‘Carbon steel, honed bare’\n",
    "‘Cr13, electropolished bare’\n",
    "‘Cement lining’\n",
    "‘Carbon steel, bare’\n",
    "‘Fiberglass lining’\n",
    "‘Cr13, bare’"
   ]
  },
  {
   "cell_type": "code",
   "execution_count": 6,
   "metadata": {},
   "outputs": [
    {
     "data": {
      "text/plain": [
       "(<Quantity(1.134622271808897, 'centipoise')>,\n",
       " <Quantity(62.46920305865831, 'pound / foot ** 3')>,\n",
       " <Quantity(11.936220472440946, 'inch')>,\n",
       " <Quantity(10.0, 'foot / second')>,\n",
       " 0.013)"
      ]
     },
     "execution_count": 6,
     "metadata": {},
     "output_type": "execute_result"
    }
   ],
   "source": [
    "mu = (water.mu*u.Pa*u.sec).to(u.cP)\n",
    "rho = (water.rho*u.kilogram/u.meter**3).to(u.lb/u.feet**3)\n",
    "d = (nearest_pipe(NPS=12*u.inch, schedule='40')[1]).to(u.inch)\n",
    "v = 10*u.feet/u.sec\n",
    "\n",
    "ft = 0.013 #Crane 410, A-27\n",
    "\n",
    "mu, rho, d, v, ft"
   ]
  },
  {
   "cell_type": "markdown",
   "metadata": {},
   "source": [
    "# Re"
   ]
  },
  {
   "cell_type": "code",
   "execution_count": 7,
   "metadata": {},
   "outputs": [
    {
     "data": {
      "text/plain": [
       "814897.8622451683"
      ]
     },
     "execution_count": 7,
     "metadata": {},
     "output_type": "execute_result"
    }
   ],
   "source": [
    "Re = (124.0*d*v*rho/mu).magnitude\n",
    "\n",
    "Re"
   ]
  },
  {
   "cell_type": "code",
   "execution_count": 8,
   "metadata": {},
   "outputs": [
    {
     "data": {
      "text/html": [
       "0.013878069561963996 dimensionless"
      ],
      "text/latex": [
       "$0.013878069561963996\\ dimensionless$"
      ],
      "text/plain": [
       "<Quantity(0.013878069561963996, 'dimensionless')>"
      ]
     },
     "execution_count": 8,
     "metadata": {},
     "output_type": "execute_result"
    }
   ],
   "source": [
    "D = d.to(u.meter)\n",
    "e = roughness_Farshad('Carbon steel, bare', D=d)\n",
    "\n",
    "f = friction_factor(Re=Re, eD=e/D)\n",
    "f  #friciton factor for the pipe flow"
   ]
  },
  {
   "cell_type": "markdown",
   "metadata": {},
   "source": [
    "# Evaluate the know Ks"
   ]
  },
  {
   "cell_type": "code",
   "execution_count": 9,
   "metadata": {},
   "outputs": [
    {
     "data": {
      "text/html": [
       "0.8326841737178398 dimensionless"
      ],
      "text/latex": [
       "$0.8326841737178398\\ dimensionless$"
      ],
      "text/plain": [
       "<Quantity(0.8326841737178398, 'dimensionless')>"
      ]
     },
     "execution_count": 9,
     "metadata": {},
     "output_type": "execute_result"
    }
   ],
   "source": [
    "#pipe\n",
    "L=60*u.feet\n",
    "D = 12*u.inch\n",
    "\n",
    "Kpipe = f*L/D.to(u.feet)\n",
    "\n",
    "Kpipe"
   ]
  },
  {
   "cell_type": "code",
   "execution_count": 10,
   "metadata": {},
   "outputs": [
    {
     "data": {
      "text/plain": [
       "0.104"
      ]
     },
     "execution_count": 10,
     "metadata": {},
     "output_type": "execute_result"
    }
   ],
   "source": [
    "#gate valve\n",
    "Kgate = 8*ft\n",
    "\n",
    "Kgate\n"
   ]
  },
  {
   "cell_type": "code",
   "execution_count": 11,
   "metadata": {
    "collapsed": true
   },
   "outputs": [],
   "source": [
    "#K entrance\n",
    "Kentrance = 0.78 #Crane 410, A-30\n",
    "\n",
    "#K exit\n",
    "Kexit = 1 #Crane 410, A-30"
   ]
  },
  {
   "cell_type": "markdown",
   "metadata": {},
   "source": [
    "# Total Required K"
   ]
  },
  {
   "cell_type": "code",
   "execution_count": 12,
   "metadata": {},
   "outputs": [
    {
     "data": {
      "text/html": [
       "7.728000000000001 dimensionless"
      ],
      "text/latex": [
       "$7.728000000000001\\ dimensionless$"
      ],
      "text/plain": [
       "<Quantity(7.728000000000001, 'dimensionless')>"
      ]
     },
     "execution_count": 12,
     "metadata": {},
     "output_type": "execute_result"
    }
   ],
   "source": [
    "g = 32.2*u.feet/u.sec**2\n",
    "hL = 12*u.feet\n",
    "\n",
    "Kreq = 2*g*hL/v**2\n",
    "\n",
    "Kreq"
   ]
  },
  {
   "cell_type": "markdown",
   "metadata": {},
   "source": [
    "# K for orifice required"
   ]
  },
  {
   "cell_type": "code",
   "execution_count": 13,
   "metadata": {},
   "outputs": [
    {
     "data": {
      "text/html": [
       "5.011315826282161 dimensionless"
      ],
      "text/latex": [
       "$5.011315826282161\\ dimensionless$"
      ],
      "text/plain": [
       "<Quantity(5.011315826282161, 'dimensionless')>"
      ]
     },
     "execution_count": 13,
     "metadata": {},
     "output_type": "execute_result"
    }
   ],
   "source": [
    "Korifice = Kreq - (Kpipe + Kgate + Kexit + Kentrance)\n",
    "\n",
    "Korifice"
   ]
  },
  {
   "cell_type": "code",
   "execution_count": 14,
   "metadata": {},
   "outputs": [
    {
     "data": {
      "text/plain": [
       "(0.6102057030215302, 4.335491251870889)"
      ]
     },
     "execution_count": 14,
     "metadata": {},
     "output_type": "execute_result"
    }
   ],
   "source": [
    "#Assume\n",
    "beta = 0.7\n",
    "C = 0.7 #Crane 410, A-21\n",
    "\n",
    "Cd = C*math.sqrt(1-beta**4)\n",
    "Korifice_cal = (math.sqrt(1-(beta**4)*(1-Cd**2))/(Cd*beta**2)-1)**2\n",
    "\n",
    "Cd, Korifice_cal"
   ]
  },
  {
   "cell_type": "markdown",
   "metadata": {},
   "source": [
    "Korifice_cal too small"
   ]
  },
  {
   "cell_type": "code",
   "execution_count": 15,
   "metadata": {},
   "outputs": [
    {
     "data": {
      "text/plain": [
       "(0.6072631590793237, 7.136607740166733)"
      ]
     },
     "execution_count": 15,
     "metadata": {},
     "output_type": "execute_result"
    }
   ],
   "source": [
    "#pick a different beta\n",
    "beta = 0.65\n",
    "C = 0.67 #Crane 410, A-21\n",
    "\n",
    "Cd = C*math.sqrt(1-beta**4)\n",
    "Korifice_cal = (math.sqrt(1-(beta**4)*(1-Cd**2))/(Cd*beta**2)-1)**2\n",
    "\n",
    "Cd, Korifice_cal"
   ]
  },
  {
   "cell_type": "markdown",
   "metadata": {},
   "source": [
    "Korifice_cal is too large"
   ]
  },
  {
   "cell_type": "code",
   "execution_count": 16,
   "metadata": {},
   "outputs": [
    {
     "data": {
      "text/plain": [
       "(0.6206700070085551, 5.050270285298161)"
      ]
     },
     "execution_count": 16,
     "metadata": {},
     "output_type": "execute_result"
    }
   ],
   "source": [
    "#pick a different beta\n",
    "beta = 0.68\n",
    "C = 0.70 #Crane 410, A-21\n",
    "\n",
    "Cd = C*math.sqrt(1-beta**4)\n",
    "Korifice_cal = (math.sqrt(1-(beta**4)*(1-Cd**2))/(Cd*beta**2)-1)**2\n",
    "\n",
    "Cd, Korifice_cal"
   ]
  },
  {
   "cell_type": "markdown",
   "metadata": {},
   "source": [
    "Use beta = 0.68"
   ]
  },
  {
   "cell_type": "markdown",
   "metadata": {},
   "source": [
    "# Orifice Size"
   ]
  },
  {
   "cell_type": "code",
   "execution_count": 17,
   "metadata": {},
   "outputs": [
    {
     "data": {
      "text/html": [
       "8.116629921259843 inch"
      ],
      "text/latex": [
       "$8.116629921259843\\ \\mathrm{inch}$"
      ],
      "text/plain": [
       "<Quantity(8.116629921259843, 'inch')>"
      ]
     },
     "execution_count": 17,
     "metadata": {},
     "output_type": "execute_result"
    }
   ],
   "source": [
    "Orifice_size = beta*d\n",
    "\n",
    "Orifice_size"
   ]
  },
  {
   "cell_type": "markdown",
   "metadata": {},
   "source": [
    "# Alternative way to solve this problem without using Crane 410 Appendix"
   ]
  },
  {
   "cell_type": "markdown",
   "metadata": {},
   "source": [
    "#Calculates the coefficient of discharge of the orifice \n",
    "#based on the geometry of the plate, measured pressures of the orifice, \n",
    "#mass flow rate through the orifice, and the density and viscosity of the fluid\n",
    "\n",
    "D : float\n",
    "\n",
    "    Upstream internal pipe diameter, [m]\n",
    "\n",
    "Do : float\n",
    "\n",
    "    Diameter of orifice at flow conditions, [m]\n",
    "\n",
    "rho : float\n",
    "\n",
    "    Density of fluid at P1, [kg/m^3]\n",
    "\n",
    "mu : float\n",
    "\n",
    "    Viscosity of fluid at P1, [Pa*s]\n",
    "\n",
    "m : float\n",
    "\n",
    "    Mass flow rate of fluid through the orifice, [kg/s]\n",
    "\n",
    "taps : str\n",
    "\n",
    "    The orientation of the taps; one of ‘corner’, ‘flange’, ‘D’, or ‘D/2’, [-]\n"
   ]
  },
  {
   "cell_type": "code",
   "execution_count": 18,
   "metadata": {},
   "outputs": [
    {
     "data": {
      "text/plain": [
       "(<Quantity(0.30318, 'meter')>,\n",
       " <Quantity(0.242544, 'meter')>,\n",
       " <Quantity(1000.660641195597, 'kilogram / meter ** 3')>,\n",
       " <Quantity(0.001134622271808897, 'pascal * second')>,\n",
       " <Quantity(220.18755011519298, 'kilogram / second')>)"
      ]
     },
     "execution_count": 18,
     "metadata": {},
     "output_type": "execute_result"
    }
   ],
   "source": [
    "from flow_meter import *  #something is not right with the pip installation of fluids\n",
    "                        #I had to locally say the soure data and\n",
    "                        #modify the imports to local\n",
    "\n",
    "#assume a beta\n",
    "beta = 0.8\n",
    "\n",
    "D = (nearest_pipe(NPS=12*u.inch, schedule='40')[1])\n",
    "Do = beta*D \n",
    "mu = (water.mu*u.Pa*u.sec)\n",
    "rho = (water.rho*u.kilogram/u.meter**3)\n",
    "\n",
    "v = (10*u.feet/u.sec).to(u.meter/u.sec)\n",
    "A = math.pi*(D/2)**2\n",
    "m = rho*v*A #mass flow rate\n",
    "\n",
    "D, Do, rho, mu, m"
   ]
  },
  {
   "cell_type": "code",
   "execution_count": 19,
   "metadata": {},
   "outputs": [
    {
     "data": {
      "text/plain": [
       "(0.5966246688067108, 1.5551913739827734, <Quantity(9.548976377952757, 'inch')>)"
      ]
     },
     "execution_count": 19,
     "metadata": {},
     "output_type": "execute_result"
    }
   ],
   "source": [
    "Cd = C_Reader_Harris_Gallagher(D=d.magnitude, Do=Do.magnitude, rho=rho.magnitude, mu=mu.magnitude, m=m.magnitude, taps='flange')\n",
    "\n",
    "Korifice = discharge_coefficient_to_K(D=D.magnitude, Do=Do.magnitude, C=Cd)\n",
    "\n",
    "Cd, Korifice, Do.to(u.inch)"
   ]
  },
  {
   "cell_type": "markdown",
   "metadata": {},
   "source": [
    "After choosing a few betas, we finally get a beta of 0.69 to give the required Korifice.  Do is 8.2 inches."
   ]
  },
  {
   "cell_type": "code",
   "execution_count": null,
   "metadata": {
    "collapsed": true
   },
   "outputs": [],
   "source": []
  }
 ],
 "metadata": {
  "kernelspec": {
   "display_name": "Python 3",
   "language": "python",
   "name": "python3"
  },
  "language_info": {
   "codemirror_mode": {
    "name": "ipython",
    "version": 3
   },
   "file_extension": ".py",
   "mimetype": "text/x-python",
   "name": "python",
   "nbconvert_exporter": "python",
   "pygments_lexer": "ipython3",
   "version": "3.6.3"
  }
 },
 "nbformat": 4,
 "nbformat_minor": 2
}
