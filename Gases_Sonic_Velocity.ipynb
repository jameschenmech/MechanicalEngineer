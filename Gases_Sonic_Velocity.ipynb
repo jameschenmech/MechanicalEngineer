{
 "cells": [
  {
   "cell_type": "markdown",
   "metadata": {},
   "source": [
    "# Piping Calculations"
   ]
  },
  {
   "cell_type": "markdown",
   "metadata": {},
   "source": [
    "Import the fluids library.  Check the readme file here: http://fluids.readthedocs.io/index.html"
   ]
  },
  {
   "cell_type": "code",
   "execution_count": 1,
   "metadata": {
    "collapsed": true
   },
   "outputs": [],
   "source": [
    "import fluids"
   ]
  },
  {
   "attachments": {},
   "cell_type": "markdown",
   "metadata": {},
   "source": [
    "Given:   Coke oven gas having a specific gravity of 0.42, a header pressure of 125 psig, and a temperature of 140 degF is flowing through 20 feet of 3\" Schedule 40 pipe before discharging to atmosphere.  Assume raio of specific heats, k=1.4\n"
   ]
  },
  {
   "cell_type": "markdown",
   "metadata": {},
   "source": [
    "Find:  The flow rate in standard cubic feet per hour (scfh)"
   ]
  },
  {
   "cell_type": "markdown",
   "metadata": {},
   "source": [
    "Get fluid property for water"
   ]
  },
  {
   "cell_type": "markdown",
   "metadata": {},
   "source": [
    "# Solution based on Thermo module documentation"
   ]
  },
  {
   "cell_type": "code",
   "execution_count": 2,
   "metadata": {
    "collapsed": true
   },
   "outputs": [],
   "source": [
    "from fluids.units import *\n",
    "import numpy as np\n",
    "from math import sqrt"
   ]
  },
  {
   "cell_type": "code",
   "execution_count": 3,
   "metadata": {},
   "outputs": [
    {
     "data": {
      "text/plain": [
       "(<Quantity(0.2556430446194226, 'foot')>,\n",
       " <Quantity(0.07792, 'meter')>,\n",
       " <Quantity(140, 'degF')>,\n",
       " <Quantity(139.7, 'pound_force_per_square_inch')>,\n",
       " <Quantity(20, 'foot')>)"
      ]
     },
     "execution_count": 3,
     "metadata": {},
     "output_type": "execute_result"
    }
   ],
   "source": [
    "L = 20*u.feet\n",
    "\n",
    "Sg = 0.42\n",
    "\n",
    "P1 = 125*u.psi+14.7*u.psi\n",
    "\n",
    "T = (140*u.degF)\n",
    "\n",
    "d = nearest_pipe(NPS=3*u.inch, schedule='40')[1] #inner pipe dimension\n",
    "\n",
    "D = d.to(u.feet)\n",
    "\n",
    "D, d, T, P1, L"
   ]
  },
  {
   "cell_type": "markdown",
   "metadata": {},
   "source": [
    "Find K"
   ]
  },
  {
   "cell_type": "code",
   "execution_count": 4,
   "metadata": {},
   "outputs": [
    {
     "data": {
      "text/plain": [
       "2.8690965092402463"
      ]
     },
     "execution_count": 4,
     "metadata": {},
     "output_type": "execute_result"
    }
   ],
   "source": [
    "#for pipe\n",
    "f = 0.0175 #Reading off the Moody diagram, Crane 410, A-26\n",
    "\n",
    "K_pipe = f*L/D\n",
    "\n",
    "#for entrance\n",
    "K_entrance = 0.5 #Crane 410, A-30\n",
    "\n",
    "#for exit\n",
    "K_exit = 1.0 #Crane 410, A-30\n",
    "\n",
    "Ktot = np.sum([K_pipe, K_entrance, K_exit])\n",
    "\n",
    "Ktot"
   ]
  },
  {
   "cell_type": "markdown",
   "metadata": {},
   "source": [
    "Find deltaP/P1"
   ]
  },
  {
   "cell_type": "code",
   "execution_count": 5,
   "metadata": {},
   "outputs": [
    {
     "data": {
      "text/html": [
       "0.8947745168217609 dimensionless"
      ],
      "text/latex": [
       "$0.8947745168217609\\ dimensionless$"
      ],
      "text/plain": [
       "<Quantity(0.8947745168217609, 'dimensionless')>"
      ]
     },
     "execution_count": 5,
     "metadata": {},
     "output_type": "execute_result"
    }
   ],
   "source": [
    "deltaP_P1 = (P1 - 14.7*u.psi)/P1\n",
    "\n",
    "deltaP_P1"
   ]
  },
  {
   "cell_type": "markdown",
   "metadata": {},
   "source": [
    "Using the chart on Crane 410 page A-23 for k=1.4, it is found hat for K=2.87, the maximum deltaP/P1 is 0.657 (interpolated from the table on page A-23).  Since deltaP/P1 is less than indicated (deltaP/P1 above of 0.89), sonic velocity occurs at the end of the pipe and we need to calculate a deltaP for further calculations."
   ]
  },
  {
   "cell_type": "code",
   "execution_count": 6,
   "metadata": {},
   "outputs": [
    {
     "data": {
      "text/html": [
       "91.7829 pound_force_per_square_inch"
      ],
      "text/latex": [
       "$91.7829\\ \\mathrm{pound_force_per_square_inch}$"
      ],
      "text/plain": [
       "<Quantity(91.7829, 'pound_force_per_square_inch')>"
      ]
     },
     "execution_count": 6,
     "metadata": {},
     "output_type": "execute_result"
    }
   ],
   "source": [
    "delta_P = 0.657*P1\n",
    "\n",
    "delta_P"
   ]
  },
  {
   "cell_type": "code",
   "execution_count": 7,
   "metadata": {},
   "outputs": [
    {
     "data": {
      "text/html": [
       "599.6699996 degR"
      ],
      "text/latex": [
       "$599.6699996\\ \\mathrm{degR}$"
      ],
      "text/plain": [
       "<Quantity(599.6699996, 'degR')>"
      ]
     },
     "execution_count": 7,
     "metadata": {},
     "output_type": "execute_result"
    }
   ],
   "source": [
    "T = T.to(u.degR)\n",
    "\n",
    "T"
   ]
  },
  {
   "cell_type": "markdown",
   "metadata": {},
   "source": [
    "Find net expansion factor for compressible flow"
   ]
  },
  {
   "cell_type": "code",
   "execution_count": 8,
   "metadata": {
    "collapsed": true
   },
   "outputs": [],
   "source": [
    "Y = 0.637 #Interpolated from Crane 410, A-23"
   ]
  },
  {
   "cell_type": "markdown",
   "metadata": {},
   "source": [
    "Find the flow rate"
   ]
  },
  {
   "cell_type": "code",
   "execution_count": 9,
   "metadata": {},
   "outputs": [
    {
     "data": {
      "text/plain": [
       "'1027755.96 foot ** 3 / hour'"
      ]
     },
     "execution_count": 9,
     "metadata": {},
     "output_type": "execute_result"
    }
   ],
   "source": [
    "qh = (40700*Y*(d.to(u.inch)**2)*sqrt((delta_P*P1/(Ktot*T*Sg)).magnitude)).magnitude*u.feet**3/u.hour\n",
    "\n",
    "'{:.2f}'.format(qh)"
   ]
  },
  {
   "cell_type": "code",
   "execution_count": null,
   "metadata": {
    "collapsed": true
   },
   "outputs": [],
   "source": []
  }
 ],
 "metadata": {
  "kernelspec": {
   "display_name": "Python 3",
   "language": "python",
   "name": "python3"
  },
  "language_info": {
   "codemirror_mode": {
    "name": "ipython",
    "version": 3
   },
   "file_extension": ".py",
   "mimetype": "text/x-python",
   "name": "python",
   "nbconvert_exporter": "python",
   "pygments_lexer": "ipython3",
   "version": "3.6.3"
  }
 },
 "nbformat": 4,
 "nbformat_minor": 2
}
