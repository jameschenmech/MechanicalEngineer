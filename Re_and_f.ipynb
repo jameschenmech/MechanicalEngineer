{
 "cells": [
  {
   "cell_type": "code",
   "execution_count": 1,
   "metadata": {
    "collapsed": true
   },
   "outputs": [],
   "source": [
    "import thermo\n",
    "from thermo.chemical import Chemical"
   ]
  },
  {
   "cell_type": "code",
   "execution_count": 2,
   "metadata": {
    "collapsed": true
   },
   "outputs": [],
   "source": [
    "import math\n",
    "import fluids\n",
    "from fluids.units import *\n"
   ]
  },
  {
   "cell_type": "markdown",
   "metadata": {},
   "source": [
    "Given:  water at 80degF through 70 feet of 2\" standard wall plastic pipe (smooth wall) at a rate of 50 gallons per minute.\n",
    "Find: Re, and friction factor"
   ]
  },
  {
   "cell_type": "code",
   "execution_count": 3,
   "metadata": {
    "collapsed": true
   },
   "outputs": [],
   "source": [
    "Q = 50*u.gallon/u.minute"
   ]
  },
  {
   "cell_type": "code",
   "execution_count": 4,
   "metadata": {
    "collapsed": true
   },
   "outputs": [],
   "source": [
    "T = (80*u.degF).to(u.degK)"
   ]
  },
  {
   "cell_type": "markdown",
   "metadata": {},
   "source": [
    "Assume atmospheric pressures"
   ]
  },
  {
   "cell_type": "code",
   "execution_count": 5,
   "metadata": {
    "collapsed": true
   },
   "outputs": [],
   "source": [
    "P = (1*u.atm).to(u.Pa)"
   ]
  },
  {
   "cell_type": "markdown",
   "metadata": {},
   "source": [
    "Get the water properties from PubChem"
   ]
  },
  {
   "cell_type": "code",
   "execution_count": 6,
   "metadata": {
    "collapsed": true
   },
   "outputs": [],
   "source": [
    "water = Chemical('water', P=P.magnitude, T=T.magnitude)"
   ]
  },
  {
   "cell_type": "markdown",
   "metadata": {},
   "source": [
    "# Solve using the fluids-built in functions exclusively"
   ]
  },
  {
   "cell_type": "markdown",
   "metadata": {},
   "source": [
    "Only the following types of clean, new pipe have data available:\n",
    "‘Plastic coated’\n",
    "‘Carbon steel, honed bare’\n",
    "‘Cr13, electropolished bare’\n",
    "‘Cement lining’\n",
    "‘Carbon steel, bare’\n",
    "‘Fiberglass lining’\n",
    "‘Cr13, bare’"
   ]
  },
  {
   "cell_type": "code",
   "execution_count": 7,
   "metadata": {},
   "outputs": [
    {
     "name": "stdout",
     "output_type": "stream",
     "text": [
      "eD is:  9.61128193310827e-05 dimensionless\n",
      "friction factor is:  0.019005386593286933 dimensionless\n",
      "Reynolds number is:  86640.15381007188 dimensionless\n"
     ]
    }
   ],
   "source": [
    "mu = water.mu*u.Pa*u.sec\n",
    "rho = water.rho*u.kilogram/u.meter**3\n",
    "d = nearest_pipe(NPS=2*u.inch, schedule='40')[1]\n",
    "V = (Q.to(u.meter**3/u.sec))/(math.pi*(d/2)**2) # m^3/s\n",
    "\n",
    "mu, rho, d, V\n",
    "Re = Reynolds(V=V, D=d, rho=rho, mu=mu)\n",
    "\n",
    "e = roughness_Farshad('Plastic coated', D=d)\n",
    "\n",
    "f = friction_factor(Re=Re, eD=e/d)\n",
    "print(\"eD is: \",e/d)\n",
    "print(\"friction factor is: \", f)\n",
    "print(\"Reynolds number is: \", Re)"
   ]
  },
  {
   "cell_type": "markdown",
   "metadata": {},
   "source": [
    "# Solution as Provided by Crane 410"
   ]
  },
  {
   "cell_type": "code",
   "execution_count": 8,
   "metadata": {},
   "outputs": [
    {
     "name": "stdout",
     "output_type": "stream",
     "text": [
      "62.200195542865046 pound / cubic_foot 2.0661417322834645 inch 0.8801193390303618\n",
      "friciton factor by Crane 410 Re:  0.018612003167735855 dimensionless\n",
      "Reynolds number is:  86641.36107324102\n"
     ]
    }
   ],
   "source": [
    "mu = water.mu*1000 #Pa*s to cP conversion\\\n",
    "rho = (water.rho*u.kilogram/(u.meter**3)).to(u.lb/u.cubic_feet) #k/m**3 to lb/ft**#\n",
    "d = nearest_pipe(NPS=2*u.inch, schedule='40')[1].to(u.inch) #inner pipe dimension\n",
    "\n",
    "print(rho, d, mu)\n",
    "\n",
    "Re = 50.66*Q.magnitude*rho.magnitude/(d.magnitude*mu)\n",
    "f = friction_factor(Re=Re, eD=0.00003/d)\n",
    "#Read off A-24 of Crane to get roughness of 0.00003\n",
    "#Read off A-25 of Crane to get friction factor of 0.00182\n",
    "\n",
    "print(\"friction factor by Crane 410 Re: \",f)\n",
    "print(\"Reynolds number is: \", Re)"
   ]
  },
  {
   "cell_type": "markdown",
   "metadata": {},
   "source": [
    "The calculation from the fluids module vs what Crane 410 gives is pretty close."
   ]
  }
 ],
 "metadata": {
  "kernelspec": {
   "display_name": "Python 3",
   "language": "python",
   "name": "python3"
  },
  "language_info": {
   "codemirror_mode": {
    "name": "ipython",
    "version": 3
   },
   "file_extension": ".py",
   "mimetype": "text/x-python",
   "name": "python",
   "nbconvert_exporter": "python",
   "pygments_lexer": "ipython3",
   "version": "3.6.3"
  }
 },
 "nbformat": 4,
 "nbformat_minor": 2
}
