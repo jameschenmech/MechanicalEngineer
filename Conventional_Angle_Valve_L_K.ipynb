{
 "cells": [
  {
   "cell_type": "code",
   "execution_count": 1,
   "metadata": {
    "collapsed": true
   },
   "outputs": [],
   "source": [
    "import math\n",
    "import fluids\n",
    "from fluids.units import *\n"
   ]
  },
  {
   "cell_type": "markdown",
   "metadata": {},
   "source": [
    "Given:  A 4\" Class 600 steel conventional angle valve with full area seat.\n",
    "Find:  Resistance coefficient K, flow coefficient Cv, and equivalent legnths L/D and L in zone of complete turbulence"
   ]
  },
  {
   "cell_type": "markdown",
   "metadata": {
    "collapsed": true
   },
   "source": [
    "# Calculations "
   ]
  },
  {
   "cell_type": "markdown",
   "metadata": {},
   "source": [
    "K, L/D, L should be given in terms of 4\" Schedule 80 pipe"
   ]
  },
  {
   "cell_type": "code",
   "execution_count": 2,
   "metadata": {},
   "outputs": [],
   "source": [
    "d = nearest_pipe(NPS=4*u.inch, schedule='80')[1]  #internal diameter in meter\n",
    "D = d.to(u.feet)"
   ]
  },
  {
   "cell_type": "markdown",
   "metadata": {},
   "source": [
    "Only the following types of clean, new pipe have roughness data available:\n",
    "‘Plastic coated’\n",
    "‘Carbon steel, honed bare’\n",
    "‘Cr13, electropolished bare’\n",
    "‘Cement lining’\n",
    "‘Carbon steel, bare’\n",
    "‘Fiberglass lining’\n",
    "‘Cr13, bare’\n"
   ]
  },
  {
   "cell_type": "code",
   "execution_count": 3,
   "metadata": {},
   "outputs": [
    {
     "data": {
      "text/html": [
       "0.015543701161998281 dimensionless"
      ],
      "text/latex": [
       "$0.015543701161998281\\ dimensionless$"
      ],
      "text/plain": [
       "<Quantity(0.015543701161998281, 'dimensionless')>"
      ]
     },
     "execution_count": 3,
     "metadata": {},
     "output_type": "execute_result"
    }
   ],
   "source": [
    "#Complete turbulence Re = 10**8\n",
    "Re = 10**8\n",
    "\n",
    "e = roughness_Farshad('Carbon steel, bare', D=d) \n",
    "\n",
    "f = friction_factor(Re=Re, eD = e/d)\n",
    "f"
   ]
  },
  {
   "cell_type": "code",
   "execution_count": 4,
   "metadata": {
    "scrolled": true
   },
   "outputs": [
    {
     "name": "stdout",
     "output_type": "stream",
     "text": [
      "K is: 2.331555174299742 dimensionless, Cv is: 286.06341997105005, L/D is: 150.0 dimensionless, L is: 47.8248031496063 foot\n"
     ]
    }
   ],
   "source": [
    "K = 150*f #based on Schedule 80 pipe\n",
    "\n",
    "Cv = (29.84*(d.to(u.inch)**2)/math.sqrt(K)).magnitude #Cv formula in Crane 410 requires inches\n",
    "\n",
    "LD = K/f\n",
    "\n",
    "L = LD*D\n",
    "\n",
    "print(\"K is: {}, Cv is: {}, L/D is: {}, L is: {}\".format(K, Cv, LD, L))"
   ]
  },
  {
   "cell_type": "markdown",
   "metadata": {},
   "source": [
    "# Calculations per Crane 410"
   ]
  },
  {
   "cell_type": "code",
   "execution_count": 5,
   "metadata": {},
   "outputs": [
    {
     "name": "stdout",
     "output_type": "stream",
     "text": [
      "K is: 2.475, Cv is: 277.6499332374411, L/D is: 150.0, L is: 47.8248031496063 foot\n"
     ]
    }
   ],
   "source": [
    "f = 0.0165 #See A-26 for 4\" Schedule 80\n",
    "\n",
    "K = 150 *f\n",
    "\n",
    "Cv = (29.84*(d.to(u.inch)**2)/math.sqrt(K)).magnitude #Cv formula in Crane 410 requires inches\n",
    "\n",
    "LD = K/f #LD is always 150 for turbulent flow\n",
    "\n",
    "L = LD*D\n",
    "\n",
    "print(\"K is: {}, Cv is: {}, L/D is: {}, L is: {}\".format(K, Cv, LD, L))"
   ]
  },
  {
   "cell_type": "markdown",
   "metadata": {},
   "source": [
    "Solution from Crane 410 and from fluids module give roughly the same answers. "
   ]
  }
 ],
 "metadata": {
  "kernelspec": {
   "display_name": "Python 3",
   "language": "python",
   "name": "python3"
  },
  "language_info": {
   "codemirror_mode": {
    "name": "ipython",
    "version": 3
   },
   "file_extension": ".py",
   "mimetype": "text/x-python",
   "name": "python",
   "nbconvert_exporter": "python",
   "pygments_lexer": "ipython3",
   "version": "3.6.3"
  }
 },
 "nbformat": 4,
 "nbformat_minor": 2
}
