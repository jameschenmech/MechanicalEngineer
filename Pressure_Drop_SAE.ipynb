{
 "cells": [
  {
   "cell_type": "code",
   "execution_count": 1,
   "metadata": {
    "collapsed": true
   },
   "outputs": [],
   "source": [
    "import fluids\n",
    "from fluids.units import *"
   ]
  },
  {
   "cell_type": "markdown",
   "metadata": {},
   "source": [
    "Given:  SAE 30 Oil at 100 degF is flowing at the rate of 600 barrels per hour through 200 feet of 8\" Schedule 40 pipe, in which an 8\" conventional globe valve with full area seat is installed.\n",
    "Find:  The pressure drop due to flow throug the pipe and valve"
   ]
  },
  {
   "cell_type": "code",
   "execution_count": 2,
   "metadata": {},
   "outputs": [],
   "source": [
    "Q = 600*u.oil_bbl/u.hour\n",
    "Q = Q.to(u.gallons/u.minute)\n",
    "\n",
    "d = nearest_pipe(NPS=8*u.inch, schedule='40')[1]\n",
    "d = d.to(u.inch).round(3)"
   ]
  },
  {
   "cell_type": "code",
   "execution_count": 3,
   "metadata": {},
   "outputs": [
    {
     "data": {
      "text/plain": [
       "1112.5322665381723"
      ]
     },
     "execution_count": 3,
     "metadata": {},
     "output_type": "execute_result"
    }
   ],
   "source": [
    "S = 0.887 # @ 60 deg F, specific gravity, Crane 410 A-8,\n",
    "S = 0.87 #@100 deg F, specific gravity, Crane 410 A-8, read off the chart\n",
    "rho = S*62.364*u.lb/u.feet**3 #weight density, Crane 410 A-8\n",
    "rho.round(decimals=2)\n",
    "\n",
    "mu = 130 #Crane 410 A-3\n",
    "\n",
    "Re = (50.66*Q*rho/(d*mu)).magnitude\n",
    "Re"
   ]
  },
  {
   "cell_type": "markdown",
   "metadata": {},
   "source": [
    "Re < 2000, laminar flow"
   ]
  },
  {
   "cell_type": "code",
   "execution_count": 4,
   "metadata": {},
   "outputs": [
    {
     "data": {
      "text/plain": [
       "0.058"
      ]
     },
     "execution_count": 4,
     "metadata": {},
     "output_type": "execute_result"
    }
   ],
   "source": [
    "f = 64/Re\n",
    "f.round(3)"
   ]
  },
  {
   "cell_type": "markdown",
   "metadata": {},
   "source": [
    "# K Values"
   ]
  },
  {
   "cell_type": "code",
   "execution_count": 5,
   "metadata": {},
   "outputs": [
    {
     "data": {
      "text/html": [
       "22.06 dimensionless"
      ],
      "text/latex": [
       "$22.06\\ dimensionless$"
      ],
      "text/plain": [
       "<Quantity(22.06, 'dimensionless')>"
      ]
     },
     "execution_count": 5,
     "metadata": {},
     "output_type": "execute_result"
    }
   ],
   "source": [
    "#Valve\n",
    "ft = 0.014 #Crane 410 A-27\n",
    "K1 = 340*ft #Crane 410 A-28\n",
    "\n",
    "#Pipe\n",
    "L = 200*u.feet\n",
    "D = d.to(u.feet)\n",
    "K = f*L/D\n",
    "\n",
    "#Total K\n",
    "K_tot = K1 + K\n",
    "K_tot.round(2)"
   ]
  },
  {
   "cell_type": "markdown",
   "metadata": {},
   "source": [
    "# delta P"
   ]
  },
  {
   "cell_type": "code",
   "execution_count": 6,
   "metadata": {},
   "outputs": [
    {
     "data": {
      "text/html": [
       "0.937 pound_force_per_square_inch"
      ],
      "text/latex": [
       "$0.937\\ \\mathrm{pound_force_per_square_inch}$"
      ],
      "text/plain": [
       "<Quantity(0.937, 'pound_force_per_square_inch')>"
      ]
     },
     "execution_count": 6,
     "metadata": {},
     "output_type": "execute_result"
    }
   ],
   "source": [
    "delta_P = (1.801e-5)*K_tot*rho*(Q**2)/(d**4)\n",
    "delta_P.magnitude.round(3)*u.psi"
   ]
  },
  {
   "cell_type": "code",
   "execution_count": null,
   "metadata": {
    "collapsed": true
   },
   "outputs": [],
   "source": []
  }
 ],
 "metadata": {
  "kernelspec": {
   "display_name": "Python 3",
   "language": "python",
   "name": "python3"
  },
  "language_info": {
   "codemirror_mode": {
    "name": "ipython",
    "version": 3
   },
   "file_extension": ".py",
   "mimetype": "text/x-python",
   "name": "python",
   "nbconvert_exporter": "python",
   "pygments_lexer": "ipython3",
   "version": "3.6.3"
  }
 },
 "nbformat": 4,
 "nbformat_minor": 2
}
